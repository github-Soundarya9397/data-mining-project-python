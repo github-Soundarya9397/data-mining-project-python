{
 "cells": [
  {
   "cell_type": "markdown",
   "id": "865486aa",
   "metadata": {},
   "source": [
    "# "
   ]
  },
  {
   "cell_type": "code",
   "execution_count": 6,
   "id": "2d027822",
   "metadata": {},
   "outputs": [],
   "source": [
    "import pandas as pd\n",
    "import numpy as np\n",
    "import matplotlib.pyplot as plt\n",
    "\n",
    "np.random.seed(0)"
   ]
  },
  {
   "cell_type": "code",
   "execution_count": 7,
   "id": "00ec1297",
   "metadata": {},
   "outputs": [],
   "source": [
    "df = pd.read_csv('ds_salaries.csv')"
   ]
  },
  {
   "cell_type": "code",
   "execution_count": 8,
   "id": "374e4fe9",
   "metadata": {},
   "outputs": [
    {
     "name": "stdout",
     "output_type": "stream",
     "text": [
      "<class 'pandas.core.frame.DataFrame'>\n",
      "RangeIndex: 607 entries, 0 to 606\n",
      "Data columns (total 11 columns):\n",
      " #   Column              Non-Null Count  Dtype \n",
      "---  ------              --------------  ----- \n",
      " 0   work_year           607 non-null    int64 \n",
      " 1   experience_level    607 non-null    object\n",
      " 2   employment_type     607 non-null    object\n",
      " 3   job_title           607 non-null    object\n",
      " 4   salary              607 non-null    int64 \n",
      " 5   salary_currency     594 non-null    object\n",
      " 6   salary_in_usd       607 non-null    int64 \n",
      " 7   employee_residence  607 non-null    object\n",
      " 8   remote_ratio        607 non-null    int64 \n",
      " 9   company_location    595 non-null    object\n",
      " 10  company_size        584 non-null    object\n",
      "dtypes: int64(4), object(7)\n",
      "memory usage: 52.3+ KB\n"
     ]
    }
   ],
   "source": [
    "df.info()"
   ]
  },
  {
   "cell_type": "code",
   "execution_count": 9,
   "id": "3104a1ca",
   "metadata": {},
   "outputs": [
    {
     "data": {
      "text/plain": [
       "(607, 11)"
      ]
     },
     "execution_count": 9,
     "metadata": {},
     "output_type": "execute_result"
    }
   ],
   "source": [
    "df.shape"
   ]
  },
  {
   "cell_type": "code",
   "execution_count": 10,
   "id": "43a9e60e",
   "metadata": {},
   "outputs": [
    {
     "data": {
      "text/plain": [
       "57.49588138385502"
      ]
     },
     "execution_count": 10,
     "metadata": {},
     "output_type": "execute_result"
    }
   ],
   "source": [
    "100 * df[df['company_location'] == 'US'].shape[0]/607"
   ]
  },
  {
   "cell_type": "code",
   "execution_count": 11,
   "id": "27243afa",
   "metadata": {},
   "outputs": [
    {
     "data": {
      "text/plain": [
       "array(['L', 'S', 'M', nan], dtype=object)"
      ]
     },
     "execution_count": 11,
     "metadata": {},
     "output_type": "execute_result"
    }
   ],
   "source": [
    "df['company_size'].unique()"
   ]
  },
  {
   "cell_type": "code",
   "execution_count": 12,
   "id": "a0fc4a0f",
   "metadata": {},
   "outputs": [
    {
     "data": {
      "text/plain": [
       "(197, 11)"
      ]
     },
     "execution_count": 12,
     "metadata": {},
     "output_type": "execute_result"
    }
   ],
   "source": [
    "df[df['company_size'] == 'L'].shape"
   ]
  },
  {
   "cell_type": "code",
   "execution_count": 13,
   "id": "585e072d",
   "metadata": {},
   "outputs": [
    {
     "data": {
      "text/plain": [
       "0.7188857271229665"
      ]
     },
     "execution_count": 13,
     "metadata": {},
     "output_type": "execute_result"
    }
   ],
   "source": [
    "100 - 100 * df.count().sum()/(df.shape[0]*df.shape[1])"
   ]
  },
  {
   "cell_type": "code",
   "execution_count": 14,
   "id": "398a04ac",
   "metadata": {},
   "outputs": [
    {
     "data": {
      "text/plain": [
       "(13, 11)"
      ]
     },
     "execution_count": 14,
     "metadata": {},
     "output_type": "execute_result"
    }
   ],
   "source": [
    "df[(df['company_location'].notnull())&(df['salary_currency'].isna())].shape"
   ]
  },
  {
   "cell_type": "code",
   "execution_count": 15,
   "id": "06b4532d",
   "metadata": {},
   "outputs": [
    {
     "data": {
      "text/plain": [
       "array(['US', 'LU', 'FR', 'IN'], dtype=object)"
      ]
     },
     "execution_count": 15,
     "metadata": {},
     "output_type": "execute_result"
    }
   ],
   "source": [
    "df[df['salary_currency'].isna()]['company_location'].unique()"
   ]
  },
  {
   "cell_type": "code",
   "execution_count": 16,
   "id": "77743637",
   "metadata": {},
   "outputs": [
    {
     "data": {
      "text/plain": [
       "USD    398\n",
       "EUR     95\n",
       "GBP     44\n",
       "INR     27\n",
       "CAD     18\n",
       "PLN      3\n",
       "JPY      3\n",
       "TRY      3\n",
       "CNY      2\n",
       "HUF      2\n",
       "BRL      2\n",
       "MXN      2\n",
       "AUD      2\n",
       "SGD      2\n",
       "DKK      2\n",
       "CLP      1\n",
       "CHF      1\n",
       "Name: salary_currency, dtype: int64"
      ]
     },
     "execution_count": 16,
     "metadata": {},
     "output_type": "execute_result"
    }
   ],
   "source": [
    "df['salary_currency'] = np.where((df['salary_currency'].isna()) & \n",
    "                                 (df['company_location'] == 'US'),\n",
    "                                 'USD', df['salary_currency'])\n",
    "\n",
    "df['salary_currency'] = np.where((df['salary_currency'].isna()) & \n",
    "                                 (df['company_location'] == 'IN'),\n",
    "                                 'INR', df['salary_currency'])\n",
    "\n",
    "df['salary_currency'] = np.where((df['salary_currency'].isna()) & \n",
    "                                 (df['company_location'] == 'FR'),\n",
    "                                 'EUR', df['salary_currency'])\n",
    "\n",
    "df['salary_currency'] = np.where((df['salary_currency'].isna()) & \n",
    "                                 (df['company_location'] == 'LU'),\n",
    "                                 'EUR', df['salary_currency'])\n",
    "\n",
    "df['salary_currency'].value_counts()"
   ]
  },
  {
   "cell_type": "code",
   "execution_count": 17,
   "id": "d53a5aba",
   "metadata": {},
   "outputs": [
    {
     "data": {
      "text/plain": [
       "M    304\n",
       "L    197\n",
       "S     83\n",
       "Name: company_size, dtype: int64"
      ]
     },
     "execution_count": 17,
     "metadata": {},
     "output_type": "execute_result"
    }
   ],
   "source": [
    "df['company_size'].value_counts()"
   ]
  },
  {
   "cell_type": "code",
   "execution_count": 18,
   "id": "70efb910",
   "metadata": {},
   "outputs": [
    {
     "data": {
      "text/plain": [
       "M    327\n",
       "L    197\n",
       "S     83\n",
       "Name: company_size, dtype: int64"
      ]
     },
     "execution_count": 18,
     "metadata": {},
     "output_type": "execute_result"
    }
   ],
   "source": [
    "df['company_size'].replace(np.nan, 'M', inplace = True)\n",
    "df['company_size'].value_counts()"
   ]
  },
  {
   "cell_type": "code",
   "execution_count": 19,
   "id": "226b437c",
   "metadata": {},
   "outputs": [
    {
     "data": {
      "text/html": [
       "<div>\n",
       "<style scoped>\n",
       "    .dataframe tbody tr th:only-of-type {\n",
       "        vertical-align: middle;\n",
       "    }\n",
       "\n",
       "    .dataframe tbody tr th {\n",
       "        vertical-align: top;\n",
       "    }\n",
       "\n",
       "    .dataframe thead th {\n",
       "        text-align: right;\n",
       "    }\n",
       "</style>\n",
       "<table border=\"1\" class=\"dataframe\">\n",
       "  <thead>\n",
       "    <tr style=\"text-align: right;\">\n",
       "      <th></th>\n",
       "      <th>work_year</th>\n",
       "      <th>experience_level</th>\n",
       "      <th>employment_type</th>\n",
       "      <th>job_title</th>\n",
       "      <th>salary</th>\n",
       "      <th>salary_currency</th>\n",
       "      <th>salary_in_usd</th>\n",
       "      <th>employee_residence</th>\n",
       "      <th>remote_ratio</th>\n",
       "      <th>company_location</th>\n",
       "      <th>company_size</th>\n",
       "    </tr>\n",
       "  </thead>\n",
       "  <tbody>\n",
       "    <tr>\n",
       "      <th>13</th>\n",
       "      <td>2021</td>\n",
       "      <td>SE</td>\n",
       "      <td>FT</td>\n",
       "      <td>Data Scientist</td>\n",
       "      <td>110000</td>\n",
       "      <td>CAD</td>\n",
       "      <td>87738</td>\n",
       "      <td>CA</td>\n",
       "      <td>100</td>\n",
       "      <td>NaN</td>\n",
       "      <td>S</td>\n",
       "    </tr>\n",
       "    <tr>\n",
       "      <th>81</th>\n",
       "      <td>2021</td>\n",
       "      <td>MI</td>\n",
       "      <td>FT</td>\n",
       "      <td>Machine Learning Engineer</td>\n",
       "      <td>75000</td>\n",
       "      <td>EUR</td>\n",
       "      <td>88654</td>\n",
       "      <td>BE</td>\n",
       "      <td>100</td>\n",
       "      <td>NaN</td>\n",
       "      <td>M</td>\n",
       "    </tr>\n",
       "    <tr>\n",
       "      <th>93</th>\n",
       "      <td>2021</td>\n",
       "      <td>MI</td>\n",
       "      <td>PT</td>\n",
       "      <td>Data Engineer</td>\n",
       "      <td>59000</td>\n",
       "      <td>EUR</td>\n",
       "      <td>69741</td>\n",
       "      <td>NL</td>\n",
       "      <td>100</td>\n",
       "      <td>NaN</td>\n",
       "      <td>L</td>\n",
       "    </tr>\n",
       "    <tr>\n",
       "      <th>184</th>\n",
       "      <td>2021</td>\n",
       "      <td>MI</td>\n",
       "      <td>FT</td>\n",
       "      <td>Data Scientist</td>\n",
       "      <td>2500000</td>\n",
       "      <td>INR</td>\n",
       "      <td>33808</td>\n",
       "      <td>IN</td>\n",
       "      <td>0</td>\n",
       "      <td>NaN</td>\n",
       "      <td>M</td>\n",
       "    </tr>\n",
       "    <tr>\n",
       "      <th>336</th>\n",
       "      <td>2021</td>\n",
       "      <td>EN</td>\n",
       "      <td>FT</td>\n",
       "      <td>Data Scientist</td>\n",
       "      <td>90000</td>\n",
       "      <td>USD</td>\n",
       "      <td>90000</td>\n",
       "      <td>US</td>\n",
       "      <td>100</td>\n",
       "      <td>NaN</td>\n",
       "      <td>S</td>\n",
       "    </tr>\n",
       "    <tr>\n",
       "      <th>350</th>\n",
       "      <td>2021</td>\n",
       "      <td>EN</td>\n",
       "      <td>FT</td>\n",
       "      <td>Research Scientist</td>\n",
       "      <td>100000</td>\n",
       "      <td>USD</td>\n",
       "      <td>100000</td>\n",
       "      <td>JE</td>\n",
       "      <td>0</td>\n",
       "      <td>NaN</td>\n",
       "      <td>L</td>\n",
       "    </tr>\n",
       "    <tr>\n",
       "      <th>351</th>\n",
       "      <td>2021</td>\n",
       "      <td>SE</td>\n",
       "      <td>CT</td>\n",
       "      <td>Staff Data Scientist</td>\n",
       "      <td>105000</td>\n",
       "      <td>USD</td>\n",
       "      <td>105000</td>\n",
       "      <td>US</td>\n",
       "      <td>100</td>\n",
       "      <td>NaN</td>\n",
       "      <td>M</td>\n",
       "    </tr>\n",
       "    <tr>\n",
       "      <th>352</th>\n",
       "      <td>2021</td>\n",
       "      <td>MI</td>\n",
       "      <td>FT</td>\n",
       "      <td>Research Scientist</td>\n",
       "      <td>69999</td>\n",
       "      <td>USD</td>\n",
       "      <td>69999</td>\n",
       "      <td>CZ</td>\n",
       "      <td>50</td>\n",
       "      <td>NaN</td>\n",
       "      <td>L</td>\n",
       "    </tr>\n",
       "    <tr>\n",
       "      <th>374</th>\n",
       "      <td>2022</td>\n",
       "      <td>SE</td>\n",
       "      <td>FT</td>\n",
       "      <td>Data Scientist</td>\n",
       "      <td>120160</td>\n",
       "      <td>USD</td>\n",
       "      <td>120160</td>\n",
       "      <td>US</td>\n",
       "      <td>100</td>\n",
       "      <td>NaN</td>\n",
       "      <td>M</td>\n",
       "    </tr>\n",
       "    <tr>\n",
       "      <th>388</th>\n",
       "      <td>2022</td>\n",
       "      <td>SE</td>\n",
       "      <td>FT</td>\n",
       "      <td>Data Analyst</td>\n",
       "      <td>90320</td>\n",
       "      <td>USD</td>\n",
       "      <td>90320</td>\n",
       "      <td>US</td>\n",
       "      <td>100</td>\n",
       "      <td>NaN</td>\n",
       "      <td>M</td>\n",
       "    </tr>\n",
       "    <tr>\n",
       "      <th>389</th>\n",
       "      <td>2022</td>\n",
       "      <td>SE</td>\n",
       "      <td>FT</td>\n",
       "      <td>Data Analyst</td>\n",
       "      <td>112900</td>\n",
       "      <td>USD</td>\n",
       "      <td>112900</td>\n",
       "      <td>US</td>\n",
       "      <td>100</td>\n",
       "      <td>NaN</td>\n",
       "      <td>M</td>\n",
       "    </tr>\n",
       "    <tr>\n",
       "      <th>390</th>\n",
       "      <td>2022</td>\n",
       "      <td>SE</td>\n",
       "      <td>FT</td>\n",
       "      <td>Data Analyst</td>\n",
       "      <td>90320</td>\n",
       "      <td>USD</td>\n",
       "      <td>90320</td>\n",
       "      <td>US</td>\n",
       "      <td>100</td>\n",
       "      <td>NaN</td>\n",
       "      <td>M</td>\n",
       "    </tr>\n",
       "  </tbody>\n",
       "</table>\n",
       "</div>"
      ],
      "text/plain": [
       "     work_year experience_level employment_type                  job_title  \\\n",
       "13        2021               SE              FT             Data Scientist   \n",
       "81        2021               MI              FT  Machine Learning Engineer   \n",
       "93        2021               MI              PT              Data Engineer   \n",
       "184       2021               MI              FT             Data Scientist   \n",
       "336       2021               EN              FT             Data Scientist   \n",
       "350       2021               EN              FT         Research Scientist   \n",
       "351       2021               SE              CT       Staff Data Scientist   \n",
       "352       2021               MI              FT         Research Scientist   \n",
       "374       2022               SE              FT             Data Scientist   \n",
       "388       2022               SE              FT               Data Analyst   \n",
       "389       2022               SE              FT               Data Analyst   \n",
       "390       2022               SE              FT               Data Analyst   \n",
       "\n",
       "      salary salary_currency  salary_in_usd employee_residence  remote_ratio  \\\n",
       "13    110000             CAD          87738                 CA           100   \n",
       "81     75000             EUR          88654                 BE           100   \n",
       "93     59000             EUR          69741                 NL           100   \n",
       "184  2500000             INR          33808                 IN             0   \n",
       "336    90000             USD          90000                 US           100   \n",
       "350   100000             USD         100000                 JE             0   \n",
       "351   105000             USD         105000                 US           100   \n",
       "352    69999             USD          69999                 CZ            50   \n",
       "374   120160             USD         120160                 US           100   \n",
       "388    90320             USD          90320                 US           100   \n",
       "389   112900             USD         112900                 US           100   \n",
       "390    90320             USD          90320                 US           100   \n",
       "\n",
       "    company_location company_size  \n",
       "13               NaN            S  \n",
       "81               NaN            M  \n",
       "93               NaN            L  \n",
       "184              NaN            M  \n",
       "336              NaN            S  \n",
       "350              NaN            L  \n",
       "351              NaN            M  \n",
       "352              NaN            L  \n",
       "374              NaN            M  \n",
       "388              NaN            M  \n",
       "389              NaN            M  \n",
       "390              NaN            M  "
      ]
     },
     "execution_count": 19,
     "metadata": {},
     "output_type": "execute_result"
    }
   ],
   "source": [
    "df[(df['company_location'] != df['employee_residence']) &\n",
    "  (df['company_location'].isna())]"
   ]
  },
  {
   "cell_type": "code",
   "execution_count": 20,
   "id": "265ae5ef",
   "metadata": {},
   "outputs": [
    {
     "data": {
      "text/plain": [
       "(24, 11)"
      ]
     },
     "execution_count": 20,
     "metadata": {},
     "output_type": "execute_result"
    }
   ],
   "source": [
    "df['company_location'] = np.where(df['company_location'].isna(), \n",
    "                                  df['employee_residence'], \n",
    "                                  df['company_location'])\n",
    "\n",
    "df[df['company_location'] == 'IN'].shape"
   ]
  },
  {
   "cell_type": "code",
   "execution_count": 21,
   "id": "3225a284",
   "metadata": {},
   "outputs": [
    {
     "data": {
      "text/plain": [
       "(607, 9)"
      ]
     },
     "execution_count": 21,
     "metadata": {},
     "output_type": "execute_result"
    }
   ],
   "source": [
    "df.drop(['salary', 'salary_currency'], axis = 1, inplace = True)\n",
    "df.shape"
   ]
  },
  {
   "cell_type": "code",
   "execution_count": 22,
   "id": "acb8dd5b",
   "metadata": {},
   "outputs": [
    {
     "data": {
      "text/plain": [
       "57"
      ]
     },
     "execution_count": 22,
     "metadata": {},
     "output_type": "execute_result"
    }
   ],
   "source": [
    "len(df['employee_residence'].unique())"
   ]
  },
  {
   "cell_type": "code",
   "execution_count": 23,
   "id": "f5bdaf7c",
   "metadata": {},
   "outputs": [
    {
     "data": {
      "text/plain": [
       "557"
      ]
     },
     "execution_count": 23,
     "metadata": {},
     "output_type": "execute_result"
    }
   ],
   "source": [
    "df['same_location'] = np.where(df['employee_residence'] == df['company_location'], 1, 0)\n",
    "df.head()\n",
    "df['same_location'].sum() "
   ]
  },
  {
   "cell_type": "code",
   "execution_count": 24,
   "id": "753c09a5",
   "metadata": {},
   "outputs": [],
   "source": [
    "df.drop('employee_residence', axis = 1, inplace = True)"
   ]
  },
  {
   "cell_type": "code",
   "execution_count": 25,
   "id": "da0c2f54",
   "metadata": {},
   "outputs": [
    {
     "data": {
      "text/plain": [
       "51"
      ]
     },
     "execution_count": 25,
     "metadata": {},
     "output_type": "execute_result"
    }
   ],
   "source": [
    "len(df['company_location'].unique())"
   ]
  },
  {
   "cell_type": "code",
   "execution_count": 26,
   "id": "ca298e63",
   "metadata": {},
   "outputs": [
    {
     "data": {
      "text/plain": [
       "US       355\n",
       "other    252\n",
       "Name: company_location, dtype: int64"
      ]
     },
     "execution_count": 26,
     "metadata": {},
     "output_type": "execute_result"
    }
   ],
   "source": [
    "df['company_location'] = np.where(df['company_location'] == 'US', 'US', 'other')\n",
    "df['company_location'].value_counts()"
   ]
  },
  {
   "cell_type": "code",
   "execution_count": 27,
   "id": "e0d0c8ef",
   "metadata": {},
   "outputs": [
    {
     "data": {
      "text/html": [
       "<div>\n",
       "<style scoped>\n",
       "    .dataframe tbody tr th:only-of-type {\n",
       "        vertical-align: middle;\n",
       "    }\n",
       "\n",
       "    .dataframe tbody tr th {\n",
       "        vertical-align: top;\n",
       "    }\n",
       "\n",
       "    .dataframe thead th {\n",
       "        text-align: right;\n",
       "    }\n",
       "</style>\n",
       "<table border=\"1\" class=\"dataframe\">\n",
       "  <thead>\n",
       "    <tr style=\"text-align: right;\">\n",
       "      <th></th>\n",
       "      <th>work_year</th>\n",
       "      <th>experience_level</th>\n",
       "      <th>employment_type</th>\n",
       "      <th>job_title</th>\n",
       "      <th>salary_in_usd</th>\n",
       "      <th>remote_ratio</th>\n",
       "      <th>company_location</th>\n",
       "      <th>company_size</th>\n",
       "      <th>same_location</th>\n",
       "    </tr>\n",
       "  </thead>\n",
       "  <tbody>\n",
       "    <tr>\n",
       "      <th>0</th>\n",
       "      <td>2020</td>\n",
       "      <td>EX</td>\n",
       "      <td>FT</td>\n",
       "      <td>Director of Data Science</td>\n",
       "      <td>325000</td>\n",
       "      <td>100</td>\n",
       "      <td>1</td>\n",
       "      <td>L</td>\n",
       "      <td>1</td>\n",
       "    </tr>\n",
       "    <tr>\n",
       "      <th>1</th>\n",
       "      <td>2020</td>\n",
       "      <td>EN</td>\n",
       "      <td>FT</td>\n",
       "      <td>Machine Learning Engineer</td>\n",
       "      <td>138000</td>\n",
       "      <td>100</td>\n",
       "      <td>1</td>\n",
       "      <td>S</td>\n",
       "      <td>1</td>\n",
       "    </tr>\n",
       "    <tr>\n",
       "      <th>2</th>\n",
       "      <td>2020</td>\n",
       "      <td>MI</td>\n",
       "      <td>FT</td>\n",
       "      <td>Data Scientist</td>\n",
       "      <td>62726</td>\n",
       "      <td>50</td>\n",
       "      <td>0</td>\n",
       "      <td>S</td>\n",
       "      <td>0</td>\n",
       "    </tr>\n",
       "    <tr>\n",
       "      <th>3</th>\n",
       "      <td>2022</td>\n",
       "      <td>MI</td>\n",
       "      <td>FT</td>\n",
       "      <td>Machine Learning Engineer</td>\n",
       "      <td>87425</td>\n",
       "      <td>100</td>\n",
       "      <td>0</td>\n",
       "      <td>L</td>\n",
       "      <td>1</td>\n",
       "    </tr>\n",
       "    <tr>\n",
       "      <th>4</th>\n",
       "      <td>2022</td>\n",
       "      <td>EN</td>\n",
       "      <td>FT</td>\n",
       "      <td>Data Scientist</td>\n",
       "      <td>86703</td>\n",
       "      <td>50</td>\n",
       "      <td>0</td>\n",
       "      <td>M</td>\n",
       "      <td>1</td>\n",
       "    </tr>\n",
       "  </tbody>\n",
       "</table>\n",
       "</div>"
      ],
      "text/plain": [
       "   work_year experience_level employment_type                  job_title  \\\n",
       "0       2020               EX              FT   Director of Data Science   \n",
       "1       2020               EN              FT  Machine Learning Engineer   \n",
       "2       2020               MI              FT             Data Scientist   \n",
       "3       2022               MI              FT  Machine Learning Engineer   \n",
       "4       2022               EN              FT             Data Scientist   \n",
       "\n",
       "   salary_in_usd  remote_ratio  company_location company_size  same_location  \n",
       "0         325000           100                 1            L              1  \n",
       "1         138000           100                 1            S              1  \n",
       "2          62726            50                 0            S              0  \n",
       "3          87425           100                 0            L              1  \n",
       "4          86703            50                 0            M              1  "
      ]
     },
     "execution_count": 27,
     "metadata": {},
     "output_type": "execute_result"
    }
   ],
   "source": [
    "df['company_location'] = df['company_location'].map({'US': 1, 'other':0}).astype(int)\n",
    "df.head()"
   ]
  },
  {
   "cell_type": "code",
   "execution_count": 28,
   "id": "2757f545",
   "metadata": {},
   "outputs": [
    {
     "data": {
      "text/plain": [
       "array(['FT', 'PT', 'CT', 'FL'], dtype=object)"
      ]
     },
     "execution_count": 28,
     "metadata": {},
     "output_type": "execute_result"
    }
   ],
   "source": [
    "df['employment_type'].unique()"
   ]
  },
  {
   "cell_type": "code",
   "execution_count": 29,
   "id": "4ad697ef",
   "metadata": {},
   "outputs": [],
   "source": [
    "cols = pd.get_dummies(df['employment_type'], prefix = 'employment_type')\n",
    "df[cols.columns] = cols\n",
    "df.drop('employment_type', axis = 1, inplace = True)"
   ]
  },
  {
   "cell_type": "code",
   "execution_count": 30,
   "id": "ce74cc12",
   "metadata": {},
   "outputs": [
    {
     "data": {
      "text/plain": [
       "M    327\n",
       "L    197\n",
       "S     83\n",
       "Name: company_size, dtype: int64"
      ]
     },
     "execution_count": 30,
     "metadata": {},
     "output_type": "execute_result"
    }
   ],
   "source": [
    "df['company_size'].value_counts()"
   ]
  },
  {
   "cell_type": "code",
   "execution_count": 31,
   "id": "b4fe2026",
   "metadata": {},
   "outputs": [],
   "source": [
    "df['company_size'] = df['company_size'].map({'S':0, 'M':1, 'L': 2}).astype(int)"
   ]
  },
  {
   "cell_type": "code",
   "execution_count": 32,
   "id": "45563934",
   "metadata": {},
   "outputs": [
    {
     "data": {
      "text/plain": [
       "50"
      ]
     },
     "execution_count": 32,
     "metadata": {},
     "output_type": "execute_result"
    }
   ],
   "source": [
    "len(df['job_title'].unique())"
   ]
  },
  {
   "cell_type": "code",
   "execution_count": 33,
   "id": "65545fb1",
   "metadata": {},
   "outputs": [],
   "source": [
    "df.drop('job_title', axis = 1, inplace = True)"
   ]
  },
  {
   "cell_type": "code",
   "execution_count": 34,
   "id": "871ecd41",
   "metadata": {},
   "outputs": [
    {
     "data": {
      "text/plain": [
       "SE    280\n",
       "MI    213\n",
       "EN     88\n",
       "EX     26\n",
       "Name: experience_level, dtype: int64"
      ]
     },
     "execution_count": 34,
     "metadata": {},
     "output_type": "execute_result"
    }
   ],
   "source": [
    "df['experience_level'].value_counts()"
   ]
  },
  {
   "cell_type": "code",
   "execution_count": 35,
   "id": "1e3eea46",
   "metadata": {},
   "outputs": [],
   "source": [
    "df['experience_level'] = df['experience_level'].map({'EN': 0, 'MI': 1, 'EX': 2, 'SE': 3}).astype(int)"
   ]
  },
  {
   "cell_type": "code",
   "execution_count": 36,
   "id": "defa3a4f",
   "metadata": {},
   "outputs": [
    {
     "name": "stdout",
     "output_type": "stream",
     "text": [
      "<class 'pandas.core.frame.DataFrame'>\n",
      "RangeIndex: 607 entries, 0 to 606\n",
      "Data columns (total 11 columns):\n",
      " #   Column              Non-Null Count  Dtype\n",
      "---  ------              --------------  -----\n",
      " 0   work_year           607 non-null    int64\n",
      " 1   experience_level    607 non-null    int32\n",
      " 2   salary_in_usd       607 non-null    int64\n",
      " 3   remote_ratio        607 non-null    int64\n",
      " 4   company_location    607 non-null    int32\n",
      " 5   company_size        607 non-null    int32\n",
      " 6   same_location       607 non-null    int32\n",
      " 7   employment_type_CT  607 non-null    uint8\n",
      " 8   employment_type_FL  607 non-null    uint8\n",
      " 9   employment_type_FT  607 non-null    uint8\n",
      " 10  employment_type_PT  607 non-null    uint8\n",
      "dtypes: int32(4), int64(3), uint8(4)\n",
      "memory usage: 26.2 KB\n"
     ]
    }
   ],
   "source": [
    "df.info()"
   ]
  },
  {
   "cell_type": "code",
   "execution_count": 37,
   "id": "f8bb475f",
   "metadata": {},
   "outputs": [
    {
     "data": {
      "text/plain": [
       "(607, 11)"
      ]
     },
     "execution_count": 37,
     "metadata": {},
     "output_type": "execute_result"
    }
   ],
   "source": [
    "df.shape"
   ]
  },
  {
   "cell_type": "code",
   "execution_count": 38,
   "id": "895c0e22",
   "metadata": {},
   "outputs": [],
   "source": [
    "import numpy as np\n",
    "import pandas as pd\n",
    "import matplotlib.pyplot as plt\n",
    "import statsmodels.api as sm"
   ]
  },
  {
   "cell_type": "code",
   "execution_count": 39,
   "id": "88cb6ce2",
   "metadata": {},
   "outputs": [],
   "source": [
    "from sklearn.model_selection import train_test_split"
   ]
  },
  {
   "cell_type": "code",
   "execution_count": 40,
   "id": "6f29ad87",
   "metadata": {},
   "outputs": [
    {
     "name": "stdout",
     "output_type": "stream",
     "text": [
      "<class 'pandas.core.frame.DataFrame'>\n",
      "RangeIndex: 607 entries, 0 to 606\n",
      "Data columns (total 11 columns):\n",
      " #   Column              Non-Null Count  Dtype\n",
      "---  ------              --------------  -----\n",
      " 0   work_year           607 non-null    int64\n",
      " 1   experience_level    607 non-null    int32\n",
      " 2   salary_in_usd       607 non-null    int64\n",
      " 3   remote_ratio        607 non-null    int64\n",
      " 4   company_location    607 non-null    int32\n",
      " 5   company_size        607 non-null    int32\n",
      " 6   same_location       607 non-null    int32\n",
      " 7   employment_type_CT  607 non-null    uint8\n",
      " 8   employment_type_FL  607 non-null    uint8\n",
      " 9   employment_type_FT  607 non-null    uint8\n",
      " 10  employment_type_PT  607 non-null    uint8\n",
      "dtypes: int32(4), int64(3), uint8(4)\n",
      "memory usage: 26.2 KB\n"
     ]
    }
   ],
   "source": [
    "df.info()"
   ]
  },
  {
   "cell_type": "code",
   "execution_count": 41,
   "id": "1fa27d8a",
   "metadata": {},
   "outputs": [
    {
     "data": {
      "text/plain": [
       "Index(['work_year', 'experience_level', 'salary_in_usd', 'remote_ratio',\n",
       "       'company_location', 'company_size', 'same_location',\n",
       "       'employment_type_CT', 'employment_type_FL', 'employment_type_FT',\n",
       "       'employment_type_PT'],\n",
       "      dtype='object')"
      ]
     },
     "execution_count": 41,
     "metadata": {},
     "output_type": "execute_result"
    }
   ],
   "source": [
    "df.columns"
   ]
  },
  {
   "cell_type": "code",
   "execution_count": 42,
   "id": "0acdd45a",
   "metadata": {},
   "outputs": [],
   "source": [
    "X=df.drop([\"salary_in_usd\"],axis=1)\n",
    "y=df[\"salary_in_usd\"]"
   ]
  },
  {
   "cell_type": "code",
   "execution_count": 43,
   "id": "d942ce07",
   "metadata": {},
   "outputs": [
    {
     "data": {
      "text/plain": [
       "work_year             2021.405272\n",
       "experience_level         1.820428\n",
       "remote_ratio            70.922570\n",
       "company_location         0.584843\n",
       "company_size             1.187809\n",
       "same_location            0.917628\n",
       "employment_type_CT       0.008237\n",
       "employment_type_FL       0.006590\n",
       "employment_type_FT       0.968699\n",
       "employment_type_PT       0.016474\n",
       "dtype: float64"
      ]
     },
     "execution_count": 43,
     "metadata": {},
     "output_type": "execute_result"
    }
   ],
   "source": [
    "X.mean()"
   ]
  },
  {
   "cell_type": "code",
   "execution_count": 44,
   "id": "5061f80a",
   "metadata": {},
   "outputs": [],
   "source": [
    "from sklearn.preprocessing import MinMaxScaler"
   ]
  },
  {
   "cell_type": "code",
   "execution_count": 45,
   "id": "07876e75",
   "metadata": {},
   "outputs": [],
   "source": [
    "X=df.drop([\"salary_in_usd\"],axis=1)\n",
    "y=df[\"salary_in_usd\"]"
   ]
  },
  {
   "cell_type": "code",
   "execution_count": 46,
   "id": "14dfec6c",
   "metadata": {},
   "outputs": [],
   "source": [
    "scaler=MinMaxScaler()\n",
    "scaler.fit(X)\n",
    "X_scaled=scaler.transform(X)"
   ]
  },
  {
   "cell_type": "code",
   "execution_count": 47,
   "id": "ff59f13f",
   "metadata": {},
   "outputs": [],
   "source": [
    "X_scaled=pd.DataFrame(X_scaled, columns = X.columns)"
   ]
  },
  {
   "cell_type": "code",
   "execution_count": 48,
   "id": "963857f4",
   "metadata": {},
   "outputs": [
    {
     "data": {
      "text/html": [
       "<div>\n",
       "<style scoped>\n",
       "    .dataframe tbody tr th:only-of-type {\n",
       "        vertical-align: middle;\n",
       "    }\n",
       "\n",
       "    .dataframe tbody tr th {\n",
       "        vertical-align: top;\n",
       "    }\n",
       "\n",
       "    .dataframe thead th {\n",
       "        text-align: right;\n",
       "    }\n",
       "</style>\n",
       "<table border=\"1\" class=\"dataframe\">\n",
       "  <thead>\n",
       "    <tr style=\"text-align: right;\">\n",
       "      <th></th>\n",
       "      <th>work_year</th>\n",
       "      <th>experience_level</th>\n",
       "      <th>remote_ratio</th>\n",
       "      <th>company_location</th>\n",
       "      <th>company_size</th>\n",
       "      <th>same_location</th>\n",
       "      <th>employment_type_CT</th>\n",
       "      <th>employment_type_FL</th>\n",
       "      <th>employment_type_FT</th>\n",
       "      <th>employment_type_PT</th>\n",
       "    </tr>\n",
       "  </thead>\n",
       "  <tbody>\n",
       "    <tr>\n",
       "      <th>0</th>\n",
       "      <td>0.0</td>\n",
       "      <td>0.666667</td>\n",
       "      <td>1.0</td>\n",
       "      <td>1.0</td>\n",
       "      <td>1.0</td>\n",
       "      <td>1.0</td>\n",
       "      <td>0.0</td>\n",
       "      <td>0.0</td>\n",
       "      <td>1.0</td>\n",
       "      <td>0.0</td>\n",
       "    </tr>\n",
       "    <tr>\n",
       "      <th>1</th>\n",
       "      <td>0.0</td>\n",
       "      <td>0.000000</td>\n",
       "      <td>1.0</td>\n",
       "      <td>1.0</td>\n",
       "      <td>0.0</td>\n",
       "      <td>1.0</td>\n",
       "      <td>0.0</td>\n",
       "      <td>0.0</td>\n",
       "      <td>1.0</td>\n",
       "      <td>0.0</td>\n",
       "    </tr>\n",
       "    <tr>\n",
       "      <th>2</th>\n",
       "      <td>0.0</td>\n",
       "      <td>0.333333</td>\n",
       "      <td>0.5</td>\n",
       "      <td>0.0</td>\n",
       "      <td>0.0</td>\n",
       "      <td>0.0</td>\n",
       "      <td>0.0</td>\n",
       "      <td>0.0</td>\n",
       "      <td>1.0</td>\n",
       "      <td>0.0</td>\n",
       "    </tr>\n",
       "    <tr>\n",
       "      <th>3</th>\n",
       "      <td>1.0</td>\n",
       "      <td>0.333333</td>\n",
       "      <td>1.0</td>\n",
       "      <td>0.0</td>\n",
       "      <td>1.0</td>\n",
       "      <td>1.0</td>\n",
       "      <td>0.0</td>\n",
       "      <td>0.0</td>\n",
       "      <td>1.0</td>\n",
       "      <td>0.0</td>\n",
       "    </tr>\n",
       "    <tr>\n",
       "      <th>4</th>\n",
       "      <td>1.0</td>\n",
       "      <td>0.000000</td>\n",
       "      <td>0.5</td>\n",
       "      <td>0.0</td>\n",
       "      <td>0.5</td>\n",
       "      <td>1.0</td>\n",
       "      <td>0.0</td>\n",
       "      <td>0.0</td>\n",
       "      <td>1.0</td>\n",
       "      <td>0.0</td>\n",
       "    </tr>\n",
       "    <tr>\n",
       "      <th>...</th>\n",
       "      <td>...</td>\n",
       "      <td>...</td>\n",
       "      <td>...</td>\n",
       "      <td>...</td>\n",
       "      <td>...</td>\n",
       "      <td>...</td>\n",
       "      <td>...</td>\n",
       "      <td>...</td>\n",
       "      <td>...</td>\n",
       "      <td>...</td>\n",
       "    </tr>\n",
       "    <tr>\n",
       "      <th>602</th>\n",
       "      <td>0.5</td>\n",
       "      <td>0.333333</td>\n",
       "      <td>0.0</td>\n",
       "      <td>0.0</td>\n",
       "      <td>1.0</td>\n",
       "      <td>1.0</td>\n",
       "      <td>0.0</td>\n",
       "      <td>0.0</td>\n",
       "      <td>1.0</td>\n",
       "      <td>0.0</td>\n",
       "    </tr>\n",
       "    <tr>\n",
       "      <th>603</th>\n",
       "      <td>0.5</td>\n",
       "      <td>0.666667</td>\n",
       "      <td>1.0</td>\n",
       "      <td>1.0</td>\n",
       "      <td>1.0</td>\n",
       "      <td>1.0</td>\n",
       "      <td>0.0</td>\n",
       "      <td>0.0</td>\n",
       "      <td>1.0</td>\n",
       "      <td>0.0</td>\n",
       "    </tr>\n",
       "    <tr>\n",
       "      <th>604</th>\n",
       "      <td>0.5</td>\n",
       "      <td>0.000000</td>\n",
       "      <td>1.0</td>\n",
       "      <td>0.0</td>\n",
       "      <td>0.5</td>\n",
       "      <td>1.0</td>\n",
       "      <td>0.0</td>\n",
       "      <td>0.0</td>\n",
       "      <td>1.0</td>\n",
       "      <td>0.0</td>\n",
       "    </tr>\n",
       "    <tr>\n",
       "      <th>605</th>\n",
       "      <td>1.0</td>\n",
       "      <td>1.000000</td>\n",
       "      <td>0.0</td>\n",
       "      <td>1.0</td>\n",
       "      <td>0.5</td>\n",
       "      <td>1.0</td>\n",
       "      <td>0.0</td>\n",
       "      <td>0.0</td>\n",
       "      <td>1.0</td>\n",
       "      <td>0.0</td>\n",
       "    </tr>\n",
       "    <tr>\n",
       "      <th>606</th>\n",
       "      <td>1.0</td>\n",
       "      <td>1.000000</td>\n",
       "      <td>1.0</td>\n",
       "      <td>1.0</td>\n",
       "      <td>0.5</td>\n",
       "      <td>1.0</td>\n",
       "      <td>0.0</td>\n",
       "      <td>0.0</td>\n",
       "      <td>1.0</td>\n",
       "      <td>0.0</td>\n",
       "    </tr>\n",
       "  </tbody>\n",
       "</table>\n",
       "<p>607 rows × 10 columns</p>\n",
       "</div>"
      ],
      "text/plain": [
       "     work_year  experience_level  remote_ratio  company_location  \\\n",
       "0          0.0          0.666667           1.0               1.0   \n",
       "1          0.0          0.000000           1.0               1.0   \n",
       "2          0.0          0.333333           0.5               0.0   \n",
       "3          1.0          0.333333           1.0               0.0   \n",
       "4          1.0          0.000000           0.5               0.0   \n",
       "..         ...               ...           ...               ...   \n",
       "602        0.5          0.333333           0.0               0.0   \n",
       "603        0.5          0.666667           1.0               1.0   \n",
       "604        0.5          0.000000           1.0               0.0   \n",
       "605        1.0          1.000000           0.0               1.0   \n",
       "606        1.0          1.000000           1.0               1.0   \n",
       "\n",
       "     company_size  same_location  employment_type_CT  employment_type_FL  \\\n",
       "0             1.0            1.0                 0.0                 0.0   \n",
       "1             0.0            1.0                 0.0                 0.0   \n",
       "2             0.0            0.0                 0.0                 0.0   \n",
       "3             1.0            1.0                 0.0                 0.0   \n",
       "4             0.5            1.0                 0.0                 0.0   \n",
       "..            ...            ...                 ...                 ...   \n",
       "602           1.0            1.0                 0.0                 0.0   \n",
       "603           1.0            1.0                 0.0                 0.0   \n",
       "604           0.5            1.0                 0.0                 0.0   \n",
       "605           0.5            1.0                 0.0                 0.0   \n",
       "606           0.5            1.0                 0.0                 0.0   \n",
       "\n",
       "     employment_type_FT  employment_type_PT  \n",
       "0                   1.0                 0.0  \n",
       "1                   1.0                 0.0  \n",
       "2                   1.0                 0.0  \n",
       "3                   1.0                 0.0  \n",
       "4                   1.0                 0.0  \n",
       "..                  ...                 ...  \n",
       "602                 1.0                 0.0  \n",
       "603                 1.0                 0.0  \n",
       "604                 1.0                 0.0  \n",
       "605                 1.0                 0.0  \n",
       "606                 1.0                 0.0  \n",
       "\n",
       "[607 rows x 10 columns]"
      ]
     },
     "execution_count": 48,
     "metadata": {},
     "output_type": "execute_result"
    }
   ],
   "source": [
    "X_scaled"
   ]
  },
  {
   "cell_type": "code",
   "execution_count": 49,
   "id": "ed4174ad",
   "metadata": {},
   "outputs": [],
   "source": [
    "x=X_scaled\n",
    "y=df[\"salary_in_usd\"]"
   ]
  },
  {
   "cell_type": "code",
   "execution_count": 50,
   "id": "7e61e142",
   "metadata": {},
   "outputs": [
    {
     "data": {
      "text/plain": [
       "(607, 11)"
      ]
     },
     "execution_count": 50,
     "metadata": {},
     "output_type": "execute_result"
    }
   ],
   "source": [
    "df.shape"
   ]
  },
  {
   "cell_type": "code",
   "execution_count": 51,
   "id": "cfb78745",
   "metadata": {},
   "outputs": [],
   "source": [
    "# using the train test split function\n",
    "X_train, X_test, y_train, y_test = train_test_split(X_scaled,y , random_state=0,test_size=0.25, shuffle=True)"
   ]
  },
  {
   "cell_type": "code",
   "execution_count": 52,
   "id": "f95c2efe",
   "metadata": {},
   "outputs": [
    {
     "name": "stdout",
     "output_type": "stream",
     "text": [
      "X_train: \n",
      "     work_year  experience_level  remote_ratio  company_location  \\\n",
      "213        0.0          0.333333           1.0               1.0   \n",
      "471        1.0          1.000000           1.0               1.0   \n",
      "46         0.0          0.333333           1.0               0.0   \n",
      "266        0.5          0.000000           1.0               1.0   \n",
      "466        1.0          1.000000           0.0               1.0   \n",
      "\n",
      "     company_size  same_location  employment_type_CT  employment_type_FL  \\\n",
      "213           1.0            1.0                 0.0                 0.0   \n",
      "471           0.5            1.0                 0.0                 0.0   \n",
      "46            0.5            1.0                 0.0                 0.0   \n",
      "266           0.5            1.0                 0.0                 0.0   \n",
      "466           0.5            1.0                 0.0                 0.0   \n",
      "\n",
      "     employment_type_FT  employment_type_PT  \n",
      "213                 1.0                 0.0  \n",
      "471                 1.0                 0.0  \n",
      "46                  1.0                 0.0  \n",
      "266                 1.0                 0.0  \n",
      "466                 1.0                 0.0  \n",
      "(455, 10)\n",
      "y_train: \n",
      "213    135000\n",
      "471    180000\n",
      "46      38776\n",
      "266     50000\n",
      "466    189650\n",
      "Name: salary_in_usd, dtype: int64\n",
      "(455,)\n"
     ]
    }
   ],
   "source": [
    "print('X_train: ')\n",
    "print(X_train.head())\n",
    "print(X_train.shape)\n",
    "print('y_train: ')\n",
    "print(y_train.head())\n",
    "print(y_train.shape)"
   ]
  },
  {
   "cell_type": "markdown",
   "id": "c77e5bb8",
   "metadata": {},
   "source": [
    "# Q1"
   ]
  },
  {
   "cell_type": "code",
   "execution_count": 101,
   "id": "39959ee2",
   "metadata": {},
   "outputs": [
    {
     "name": "stdout",
     "output_type": "stream",
     "text": [
      "work_year             0.707692\n",
      "experience_level      0.595604\n",
      "remote_ratio          0.697802\n",
      "company_location      0.575824\n",
      "company_size          0.593407\n",
      "same_location         0.920879\n",
      "employment_type_CT    0.004396\n",
      "employment_type_FL    0.004396\n",
      "employment_type_FT    0.971429\n",
      "employment_type_PT    0.019780\n",
      "dtype: float64\n"
     ]
    }
   ],
   "source": [
    "print(X_train.mean())"
   ]
  },
  {
   "cell_type": "code",
   "execution_count": 54,
   "id": "5d67d686",
   "metadata": {},
   "outputs": [
    {
     "data": {
      "text/html": [
       "<div>\n",
       "<style scoped>\n",
       "    .dataframe tbody tr th:only-of-type {\n",
       "        vertical-align: middle;\n",
       "    }\n",
       "\n",
       "    .dataframe tbody tr th {\n",
       "        vertical-align: top;\n",
       "    }\n",
       "\n",
       "    .dataframe thead th {\n",
       "        text-align: right;\n",
       "    }\n",
       "</style>\n",
       "<table border=\"1\" class=\"dataframe\">\n",
       "  <thead>\n",
       "    <tr style=\"text-align: right;\">\n",
       "      <th></th>\n",
       "      <th>work_year</th>\n",
       "      <th>experience_level</th>\n",
       "      <th>remote_ratio</th>\n",
       "      <th>company_location</th>\n",
       "      <th>company_size</th>\n",
       "      <th>same_location</th>\n",
       "      <th>employment_type_CT</th>\n",
       "      <th>employment_type_FL</th>\n",
       "      <th>employment_type_FT</th>\n",
       "      <th>employment_type_PT</th>\n",
       "    </tr>\n",
       "  </thead>\n",
       "  <tbody>\n",
       "    <tr>\n",
       "      <th>213</th>\n",
       "      <td>0.0</td>\n",
       "      <td>0.333333</td>\n",
       "      <td>1.0</td>\n",
       "      <td>1.0</td>\n",
       "      <td>1.0</td>\n",
       "      <td>1.0</td>\n",
       "      <td>0.0</td>\n",
       "      <td>0.0</td>\n",
       "      <td>1.0</td>\n",
       "      <td>0.0</td>\n",
       "    </tr>\n",
       "    <tr>\n",
       "      <th>471</th>\n",
       "      <td>1.0</td>\n",
       "      <td>1.000000</td>\n",
       "      <td>1.0</td>\n",
       "      <td>1.0</td>\n",
       "      <td>0.5</td>\n",
       "      <td>1.0</td>\n",
       "      <td>0.0</td>\n",
       "      <td>0.0</td>\n",
       "      <td>1.0</td>\n",
       "      <td>0.0</td>\n",
       "    </tr>\n",
       "    <tr>\n",
       "      <th>46</th>\n",
       "      <td>0.0</td>\n",
       "      <td>0.333333</td>\n",
       "      <td>1.0</td>\n",
       "      <td>0.0</td>\n",
       "      <td>0.5</td>\n",
       "      <td>1.0</td>\n",
       "      <td>0.0</td>\n",
       "      <td>0.0</td>\n",
       "      <td>1.0</td>\n",
       "      <td>0.0</td>\n",
       "    </tr>\n",
       "    <tr>\n",
       "      <th>266</th>\n",
       "      <td>0.5</td>\n",
       "      <td>0.000000</td>\n",
       "      <td>1.0</td>\n",
       "      <td>1.0</td>\n",
       "      <td>0.5</td>\n",
       "      <td>1.0</td>\n",
       "      <td>0.0</td>\n",
       "      <td>0.0</td>\n",
       "      <td>1.0</td>\n",
       "      <td>0.0</td>\n",
       "    </tr>\n",
       "    <tr>\n",
       "      <th>466</th>\n",
       "      <td>1.0</td>\n",
       "      <td>1.000000</td>\n",
       "      <td>0.0</td>\n",
       "      <td>1.0</td>\n",
       "      <td>0.5</td>\n",
       "      <td>1.0</td>\n",
       "      <td>0.0</td>\n",
       "      <td>0.0</td>\n",
       "      <td>1.0</td>\n",
       "      <td>0.0</td>\n",
       "    </tr>\n",
       "    <tr>\n",
       "      <th>...</th>\n",
       "      <td>...</td>\n",
       "      <td>...</td>\n",
       "      <td>...</td>\n",
       "      <td>...</td>\n",
       "      <td>...</td>\n",
       "      <td>...</td>\n",
       "      <td>...</td>\n",
       "      <td>...</td>\n",
       "      <td>...</td>\n",
       "      <td>...</td>\n",
       "    </tr>\n",
       "    <tr>\n",
       "      <th>277</th>\n",
       "      <td>0.5</td>\n",
       "      <td>0.333333</td>\n",
       "      <td>1.0</td>\n",
       "      <td>1.0</td>\n",
       "      <td>1.0</td>\n",
       "      <td>1.0</td>\n",
       "      <td>0.0</td>\n",
       "      <td>0.0</td>\n",
       "      <td>1.0</td>\n",
       "      <td>0.0</td>\n",
       "    </tr>\n",
       "    <tr>\n",
       "      <th>9</th>\n",
       "      <td>0.5</td>\n",
       "      <td>0.333333</td>\n",
       "      <td>1.0</td>\n",
       "      <td>0.0</td>\n",
       "      <td>1.0</td>\n",
       "      <td>1.0</td>\n",
       "      <td>0.0</td>\n",
       "      <td>0.0</td>\n",
       "      <td>1.0</td>\n",
       "      <td>0.0</td>\n",
       "    </tr>\n",
       "    <tr>\n",
       "      <th>359</th>\n",
       "      <td>1.0</td>\n",
       "      <td>0.333333</td>\n",
       "      <td>1.0</td>\n",
       "      <td>1.0</td>\n",
       "      <td>0.5</td>\n",
       "      <td>1.0</td>\n",
       "      <td>0.0</td>\n",
       "      <td>0.0</td>\n",
       "      <td>1.0</td>\n",
       "      <td>0.0</td>\n",
       "    </tr>\n",
       "    <tr>\n",
       "      <th>192</th>\n",
       "      <td>1.0</td>\n",
       "      <td>0.333333</td>\n",
       "      <td>1.0</td>\n",
       "      <td>0.0</td>\n",
       "      <td>0.5</td>\n",
       "      <td>1.0</td>\n",
       "      <td>0.0</td>\n",
       "      <td>0.0</td>\n",
       "      <td>1.0</td>\n",
       "      <td>0.0</td>\n",
       "    </tr>\n",
       "    <tr>\n",
       "      <th>559</th>\n",
       "      <td>1.0</td>\n",
       "      <td>1.000000</td>\n",
       "      <td>1.0</td>\n",
       "      <td>1.0</td>\n",
       "      <td>0.5</td>\n",
       "      <td>1.0</td>\n",
       "      <td>0.0</td>\n",
       "      <td>0.0</td>\n",
       "      <td>1.0</td>\n",
       "      <td>0.0</td>\n",
       "    </tr>\n",
       "  </tbody>\n",
       "</table>\n",
       "<p>455 rows × 10 columns</p>\n",
       "</div>"
      ],
      "text/plain": [
       "     work_year  experience_level  remote_ratio  company_location  \\\n",
       "213        0.0          0.333333           1.0               1.0   \n",
       "471        1.0          1.000000           1.0               1.0   \n",
       "46         0.0          0.333333           1.0               0.0   \n",
       "266        0.5          0.000000           1.0               1.0   \n",
       "466        1.0          1.000000           0.0               1.0   \n",
       "..         ...               ...           ...               ...   \n",
       "277        0.5          0.333333           1.0               1.0   \n",
       "9          0.5          0.333333           1.0               0.0   \n",
       "359        1.0          0.333333           1.0               1.0   \n",
       "192        1.0          0.333333           1.0               0.0   \n",
       "559        1.0          1.000000           1.0               1.0   \n",
       "\n",
       "     company_size  same_location  employment_type_CT  employment_type_FL  \\\n",
       "213           1.0            1.0                 0.0                 0.0   \n",
       "471           0.5            1.0                 0.0                 0.0   \n",
       "46            0.5            1.0                 0.0                 0.0   \n",
       "266           0.5            1.0                 0.0                 0.0   \n",
       "466           0.5            1.0                 0.0                 0.0   \n",
       "..            ...            ...                 ...                 ...   \n",
       "277           1.0            1.0                 0.0                 0.0   \n",
       "9             1.0            1.0                 0.0                 0.0   \n",
       "359           0.5            1.0                 0.0                 0.0   \n",
       "192           0.5            1.0                 0.0                 0.0   \n",
       "559           0.5            1.0                 0.0                 0.0   \n",
       "\n",
       "     employment_type_FT  employment_type_PT  \n",
       "213                 1.0                 0.0  \n",
       "471                 1.0                 0.0  \n",
       "46                  1.0                 0.0  \n",
       "266                 1.0                 0.0  \n",
       "466                 1.0                 0.0  \n",
       "..                  ...                 ...  \n",
       "277                 1.0                 0.0  \n",
       "9                   1.0                 0.0  \n",
       "359                 1.0                 0.0  \n",
       "192                 1.0                 0.0  \n",
       "559                 1.0                 0.0  \n",
       "\n",
       "[455 rows x 10 columns]"
      ]
     },
     "execution_count": 54,
     "metadata": {},
     "output_type": "execute_result"
    }
   ],
   "source": [
    "X_train"
   ]
  },
  {
   "cell_type": "code",
   "execution_count": 55,
   "id": "195b19df",
   "metadata": {},
   "outputs": [
    {
     "data": {
      "text/plain": [
       "213    135000\n",
       "471    180000\n",
       "46      38776\n",
       "266     50000\n",
       "466    189650\n",
       "        ...  \n",
       "277    135000\n",
       "9      187442\n",
       "359    170000\n",
       "192     18442\n",
       "559     80000\n",
       "Name: salary_in_usd, Length: 455, dtype: int64"
      ]
     },
     "execution_count": 55,
     "metadata": {},
     "output_type": "execute_result"
    }
   ],
   "source": [
    "y_train"
   ]
  },
  {
   "cell_type": "code",
   "execution_count": 56,
   "id": "17ad0a63",
   "metadata": {},
   "outputs": [
    {
     "data": {
      "text/html": [
       "<div>\n",
       "<style scoped>\n",
       "    .dataframe tbody tr th:only-of-type {\n",
       "        vertical-align: middle;\n",
       "    }\n",
       "\n",
       "    .dataframe tbody tr th {\n",
       "        vertical-align: top;\n",
       "    }\n",
       "\n",
       "    .dataframe thead th {\n",
       "        text-align: right;\n",
       "    }\n",
       "</style>\n",
       "<table border=\"1\" class=\"dataframe\">\n",
       "  <thead>\n",
       "    <tr style=\"text-align: right;\">\n",
       "      <th></th>\n",
       "      <th>work_year</th>\n",
       "      <th>experience_level</th>\n",
       "      <th>remote_ratio</th>\n",
       "      <th>company_location</th>\n",
       "      <th>company_size</th>\n",
       "      <th>same_location</th>\n",
       "      <th>employment_type_CT</th>\n",
       "      <th>employment_type_FL</th>\n",
       "      <th>employment_type_FT</th>\n",
       "      <th>employment_type_PT</th>\n",
       "    </tr>\n",
       "  </thead>\n",
       "  <tbody>\n",
       "    <tr>\n",
       "      <th>count</th>\n",
       "      <td>455.000000</td>\n",
       "      <td>455.000000</td>\n",
       "      <td>455.000000</td>\n",
       "      <td>455.000000</td>\n",
       "      <td>455.000000</td>\n",
       "      <td>455.000000</td>\n",
       "      <td>455.000000</td>\n",
       "      <td>455.000000</td>\n",
       "      <td>455.000000</td>\n",
       "      <td>455.000000</td>\n",
       "    </tr>\n",
       "    <tr>\n",
       "      <th>mean</th>\n",
       "      <td>0.707692</td>\n",
       "      <td>0.595604</td>\n",
       "      <td>0.697802</td>\n",
       "      <td>0.575824</td>\n",
       "      <td>0.593407</td>\n",
       "      <td>0.920879</td>\n",
       "      <td>0.004396</td>\n",
       "      <td>0.004396</td>\n",
       "      <td>0.971429</td>\n",
       "      <td>0.019780</td>\n",
       "    </tr>\n",
       "    <tr>\n",
       "      <th>std</th>\n",
       "      <td>0.346865</td>\n",
       "      <td>0.387747</td>\n",
       "      <td>0.408332</td>\n",
       "      <td>0.494761</td>\n",
       "      <td>0.329464</td>\n",
       "      <td>0.270224</td>\n",
       "      <td>0.066226</td>\n",
       "      <td>0.066226</td>\n",
       "      <td>0.166782</td>\n",
       "      <td>0.139398</td>\n",
       "    </tr>\n",
       "    <tr>\n",
       "      <th>min</th>\n",
       "      <td>0.000000</td>\n",
       "      <td>0.000000</td>\n",
       "      <td>0.000000</td>\n",
       "      <td>0.000000</td>\n",
       "      <td>0.000000</td>\n",
       "      <td>0.000000</td>\n",
       "      <td>0.000000</td>\n",
       "      <td>0.000000</td>\n",
       "      <td>0.000000</td>\n",
       "      <td>0.000000</td>\n",
       "    </tr>\n",
       "    <tr>\n",
       "      <th>25%</th>\n",
       "      <td>0.500000</td>\n",
       "      <td>0.333333</td>\n",
       "      <td>0.500000</td>\n",
       "      <td>0.000000</td>\n",
       "      <td>0.500000</td>\n",
       "      <td>1.000000</td>\n",
       "      <td>0.000000</td>\n",
       "      <td>0.000000</td>\n",
       "      <td>1.000000</td>\n",
       "      <td>0.000000</td>\n",
       "    </tr>\n",
       "    <tr>\n",
       "      <th>50%</th>\n",
       "      <td>1.000000</td>\n",
       "      <td>0.333333</td>\n",
       "      <td>1.000000</td>\n",
       "      <td>1.000000</td>\n",
       "      <td>0.500000</td>\n",
       "      <td>1.000000</td>\n",
       "      <td>0.000000</td>\n",
       "      <td>0.000000</td>\n",
       "      <td>1.000000</td>\n",
       "      <td>0.000000</td>\n",
       "    </tr>\n",
       "    <tr>\n",
       "      <th>75%</th>\n",
       "      <td>1.000000</td>\n",
       "      <td>1.000000</td>\n",
       "      <td>1.000000</td>\n",
       "      <td>1.000000</td>\n",
       "      <td>1.000000</td>\n",
       "      <td>1.000000</td>\n",
       "      <td>0.000000</td>\n",
       "      <td>0.000000</td>\n",
       "      <td>1.000000</td>\n",
       "      <td>0.000000</td>\n",
       "    </tr>\n",
       "    <tr>\n",
       "      <th>max</th>\n",
       "      <td>1.000000</td>\n",
       "      <td>1.000000</td>\n",
       "      <td>1.000000</td>\n",
       "      <td>1.000000</td>\n",
       "      <td>1.000000</td>\n",
       "      <td>1.000000</td>\n",
       "      <td>1.000000</td>\n",
       "      <td>1.000000</td>\n",
       "      <td>1.000000</td>\n",
       "      <td>1.000000</td>\n",
       "    </tr>\n",
       "  </tbody>\n",
       "</table>\n",
       "</div>"
      ],
      "text/plain": [
       "        work_year  experience_level  remote_ratio  company_location  \\\n",
       "count  455.000000        455.000000    455.000000        455.000000   \n",
       "mean     0.707692          0.595604      0.697802          0.575824   \n",
       "std      0.346865          0.387747      0.408332          0.494761   \n",
       "min      0.000000          0.000000      0.000000          0.000000   \n",
       "25%      0.500000          0.333333      0.500000          0.000000   \n",
       "50%      1.000000          0.333333      1.000000          1.000000   \n",
       "75%      1.000000          1.000000      1.000000          1.000000   \n",
       "max      1.000000          1.000000      1.000000          1.000000   \n",
       "\n",
       "       company_size  same_location  employment_type_CT  employment_type_FL  \\\n",
       "count    455.000000     455.000000          455.000000          455.000000   \n",
       "mean       0.593407       0.920879            0.004396            0.004396   \n",
       "std        0.329464       0.270224            0.066226            0.066226   \n",
       "min        0.000000       0.000000            0.000000            0.000000   \n",
       "25%        0.500000       1.000000            0.000000            0.000000   \n",
       "50%        0.500000       1.000000            0.000000            0.000000   \n",
       "75%        1.000000       1.000000            0.000000            0.000000   \n",
       "max        1.000000       1.000000            1.000000            1.000000   \n",
       "\n",
       "       employment_type_FT  employment_type_PT  \n",
       "count          455.000000          455.000000  \n",
       "mean             0.971429            0.019780  \n",
       "std              0.166782            0.139398  \n",
       "min              0.000000            0.000000  \n",
       "25%              1.000000            0.000000  \n",
       "50%              1.000000            0.000000  \n",
       "75%              1.000000            0.000000  \n",
       "max              1.000000            1.000000  "
      ]
     },
     "execution_count": 56,
     "metadata": {},
     "output_type": "execute_result"
    }
   ],
   "source": [
    "X_train.describe()"
   ]
  },
  {
   "cell_type": "code",
   "execution_count": 57,
   "id": "61d50d41",
   "metadata": {},
   "outputs": [
    {
     "data": {
      "text/plain": [
       "count       455.000000\n",
       "mean     112279.538462\n",
       "std       71308.233369\n",
       "min        2859.000000\n",
       "25%       62688.500000\n",
       "50%      103160.000000\n",
       "75%      150000.000000\n",
       "max      600000.000000\n",
       "Name: salary_in_usd, dtype: float64"
      ]
     },
     "execution_count": 57,
     "metadata": {},
     "output_type": "execute_result"
    }
   ],
   "source": [
    "y_train.describe()"
   ]
  },
  {
   "cell_type": "markdown",
   "id": "589c193b",
   "metadata": {},
   "source": [
    "# Q2"
   ]
  },
  {
   "cell_type": "code",
   "execution_count": 58,
   "id": "b5350dd0",
   "metadata": {},
   "outputs": [],
   "source": [
    "import scipy.stats as st"
   ]
  },
  {
   "cell_type": "code",
   "execution_count": 59,
   "id": "08719e4d",
   "metadata": {},
   "outputs": [
    {
     "data": {
      "text/plain": [
       "(0.4523202462402573, 2.5003246781045545e-24)"
      ]
     },
     "execution_count": 59,
     "metadata": {},
     "output_type": "execute_result"
    }
   ],
   "source": [
    "val = st.pearsonr(X_train['experience_level'], y_train)\n",
    "val"
   ]
  },
  {
   "cell_type": "code",
   "execution_count": 60,
   "id": "805fd73d",
   "metadata": {},
   "outputs": [
    {
     "name": "stdout",
     "output_type": "stream",
     "text": [
      "Correlation coefficient:  0.4523202462402573\n",
      "p-value (two-tailed): 0.00000\n"
     ]
    }
   ],
   "source": [
    "print('Correlation coefficient: ', val[0])\n",
    "print('p-value (two-tailed): %.5f'%val[1])"
   ]
  },
  {
   "cell_type": "markdown",
   "id": "3409ad39",
   "metadata": {},
   "source": [
    "# Q4"
   ]
  },
  {
   "cell_type": "code",
   "execution_count": 61,
   "id": "505c8238",
   "metadata": {},
   "outputs": [],
   "source": [
    "import statsmodels.api as sm\n",
    "from sklearn.linear_model import LinearRegression\n",
    "import numpy as np"
   ]
  },
  {
   "cell_type": "code",
   "execution_count": 62,
   "id": "72a7810a",
   "metadata": {},
   "outputs": [],
   "source": [
    "lreg=LinearRegression()"
   ]
  },
  {
   "cell_type": "code",
   "execution_count": 63,
   "id": "c9e71b41",
   "metadata": {},
   "outputs": [],
   "source": [
    "X_new=np.array(X_train['experience_level'])"
   ]
  },
  {
   "cell_type": "code",
   "execution_count": 64,
   "id": "45970808",
   "metadata": {},
   "outputs": [
    {
     "data": {
      "text/plain": [
       "LinearRegression()"
      ]
     },
     "execution_count": 64,
     "metadata": {},
     "output_type": "execute_result"
    }
   ],
   "source": [
    "lreg.fit(X_new.reshape(-1,1),y_train)"
   ]
  },
  {
   "cell_type": "code",
   "execution_count": 65,
   "id": "3d834afa",
   "metadata": {},
   "outputs": [
    {
     "data": {
      "text/plain": [
       "array([83183.51114069])"
      ]
     },
     "execution_count": 65,
     "metadata": {},
     "output_type": "execute_result"
    }
   ],
   "source": [
    "lreg.coef_"
   ]
  },
  {
   "cell_type": "markdown",
   "id": "454db19d",
   "metadata": {},
   "source": [
    "# Q5"
   ]
  },
  {
   "cell_type": "code",
   "execution_count": 66,
   "id": "74c0734e",
   "metadata": {},
   "outputs": [],
   "source": [
    "from sklearn.linear_model import LinearRegression"
   ]
  },
  {
   "cell_type": "code",
   "execution_count": 67,
   "id": "24c64c15",
   "metadata": {},
   "outputs": [],
   "source": [
    "lreg = LinearRegression()"
   ]
  },
  {
   "cell_type": "code",
   "execution_count": 68,
   "id": "0bbdaca8",
   "metadata": {},
   "outputs": [
    {
     "data": {
      "text/plain": [
       "LinearRegression()"
      ]
     },
     "execution_count": 68,
     "metadata": {},
     "output_type": "execute_result"
    }
   ],
   "source": [
    "#training the model using the fit function\n",
    "lreg.fit(X_train,y_train)"
   ]
  },
  {
   "cell_type": "code",
   "execution_count": 69,
   "id": "ad90a30c",
   "metadata": {},
   "outputs": [
    {
     "name": "stdout",
     "output_type": "stream",
     "text": [
      "score: 0.3908554920836873\n"
     ]
    }
   ],
   "source": [
    "#predicting and evaluating\n",
    "print('score:', lreg.score(X_train,y_train))"
   ]
  },
  {
   "cell_type": "code",
   "execution_count": 70,
   "id": "9c6cf00c",
   "metadata": {},
   "outputs": [
    {
     "data": {
      "text/plain": [
       "array([ -4896.03738803,  52185.40944233,   3033.96912126,  58901.18434136,\n",
       "        22197.73901242,  26407.66618423, 122379.37867303, -50349.06379976,\n",
       "       -25588.07270224, -46442.24217102])"
      ]
     },
     "execution_count": 70,
     "metadata": {},
     "output_type": "execute_result"
    }
   ],
   "source": [
    "# model coefficients\n",
    "lreg.coef_"
   ]
  },
  {
   "cell_type": "code",
   "execution_count": 71,
   "id": "4879fa17",
   "metadata": {},
   "outputs": [
    {
     "data": {
      "text/plain": [
       "36597.18375005809"
      ]
     },
     "execution_count": 71,
     "metadata": {},
     "output_type": "execute_result"
    }
   ],
   "source": [
    "#finding the intercept\n",
    "lreg.intercept_"
   ]
  },
  {
   "cell_type": "markdown",
   "id": "8d32392b",
   "metadata": {},
   "source": [
    "# Q6"
   ]
  },
  {
   "cell_type": "code",
   "execution_count": 72,
   "id": "92a54cc6",
   "metadata": {},
   "outputs": [],
   "source": [
    "import scipy.stats as st"
   ]
  },
  {
   "cell_type": "code",
   "execution_count": 73,
   "id": "e1c0e2a1",
   "metadata": {},
   "outputs": [
    {
     "name": "stdout",
     "output_type": "stream",
     "text": [
      "<class 'pandas.core.frame.DataFrame'>\n",
      "Int64Index: 455 entries, 213 to 559\n",
      "Data columns (total 10 columns):\n",
      " #   Column              Non-Null Count  Dtype  \n",
      "---  ------              --------------  -----  \n",
      " 0   work_year           455 non-null    float64\n",
      " 1   experience_level    455 non-null    float64\n",
      " 2   remote_ratio        455 non-null    float64\n",
      " 3   company_location    455 non-null    float64\n",
      " 4   company_size        455 non-null    float64\n",
      " 5   same_location       455 non-null    float64\n",
      " 6   employment_type_CT  455 non-null    float64\n",
      " 7   employment_type_FL  455 non-null    float64\n",
      " 8   employment_type_FT  455 non-null    float64\n",
      " 9   employment_type_PT  455 non-null    float64\n",
      "dtypes: float64(10)\n",
      "memory usage: 39.1 KB\n"
     ]
    },
    {
     "data": {
      "text/plain": [
       "575    105000\n",
       "52      42197\n",
       "530    112900\n",
       "345     85000\n",
       "55      47282\n",
       "        ...  \n",
       "252     12000\n",
       "526    214000\n",
       "372    200000\n",
       "89      65013\n",
       "268    120000\n",
       "Name: salary_in_usd, Length: 152, dtype: int64"
      ]
     },
     "execution_count": 73,
     "metadata": {},
     "output_type": "execute_result"
    }
   ],
   "source": [
    "X_train.info()\n",
    "y_test"
   ]
  },
  {
   "cell_type": "code",
   "execution_count": 74,
   "id": "2063a9a2",
   "metadata": {},
   "outputs": [
    {
     "name": "stdout",
     "output_type": "stream",
     "text": [
      "Correlation coefficient:  0.179088120126354\n",
      "p-value (two-tailed)_WORK_YEAR: 0.00012\n"
     ]
    }
   ],
   "source": [
    "val1 = st.pearsonr(X_train['work_year'], y_train)\n",
    "val1\n",
    "print('Correlation coefficient: ', val1[0])\n",
    "print('p-value (two-tailed)_WORK_YEAR: %.5f'%val1[1])"
   ]
  },
  {
   "cell_type": "code",
   "execution_count": 75,
   "id": "d676ddb7",
   "metadata": {},
   "outputs": [
    {
     "name": "stdout",
     "output_type": "stream",
     "text": [
      "Correlation coefficient:  0.12740848705765798\n",
      "p-value (two-tailed)_REMOTE_RATIO: 0.00650\n"
     ]
    }
   ],
   "source": [
    "val2 = st.pearsonr(X_train['remote_ratio'], y_train)\n",
    "val2\n",
    "print('Correlation coefficient: ', val2[0])\n",
    "print('p-value (two-tailed)_REMOTE_RATIO: %.5f'%val2[1])"
   ]
  },
  {
   "cell_type": "code",
   "execution_count": 76,
   "id": "f2f206bc",
   "metadata": {},
   "outputs": [
    {
     "name": "stdout",
     "output_type": "stream",
     "text": [
      "Correlation coefficient:  0.5270912123076588\n",
      "p-value (two-tailed)_COMPANY_LOCATION: 0.00000\n"
     ]
    }
   ],
   "source": [
    "val3 = st.pearsonr(X_train['company_location'], y_train)\n",
    "val3\n",
    "print('Correlation coefficient: ', val3[0])\n",
    "print('p-value (two-tailed)_COMPANY_LOCATION: %.5f'%val3[1])"
   ]
  },
  {
   "cell_type": "code",
   "execution_count": 77,
   "id": "aa88aaf7",
   "metadata": {},
   "outputs": [
    {
     "name": "stdout",
     "output_type": "stream",
     "text": [
      "Correlation coefficient:  0.12719747783058694\n",
      "p-value (two-tailed)_COMPANY_SIZE: 0.00659\n"
     ]
    }
   ],
   "source": [
    "val4 = st.pearsonr(X_train['company_size'], y_train)\n",
    "val4\n",
    "print('Correlation coefficient: ', val4[0])\n",
    "print('p-value (two-tailed)_COMPANY_SIZE: %.5f'%val4[1])"
   ]
  },
  {
   "cell_type": "code",
   "execution_count": 78,
   "id": "d6ed4589",
   "metadata": {},
   "outputs": [
    {
     "name": "stdout",
     "output_type": "stream",
     "text": [
      "Correlation coefficient:  0.14318558818274002\n",
      "p-value (two-tailed)_SAME_LOCATION: 0.00220\n"
     ]
    }
   ],
   "source": [
    "val5 = st.pearsonr(X_train['same_location'], y_train)\n",
    "val5\n",
    "print('Correlation coefficient: ', val5[0])\n",
    "print('p-value (two-tailed)_SAME_LOCATION: %.5f'%val5[1])"
   ]
  },
  {
   "cell_type": "code",
   "execution_count": 79,
   "id": "7cf94e8c",
   "metadata": {},
   "outputs": [
    {
     "name": "stdout",
     "output_type": "stream",
     "text": [
      "Correlation coefficient:  0.10415825288604103\n",
      "p-value (two-tailed)_EMPLOYMENT_TYPE_CT: 0.02630\n"
     ]
    }
   ],
   "source": [
    "val6 = st.pearsonr(X_train['employment_type_CT'], y_train)\n",
    "val6\n",
    "print('Correlation coefficient: ', val6[0])\n",
    "print('p-value (two-tailed)_EMPLOYMENT_TYPE_CT: %.5f'%val6[1])"
   ]
  },
  {
   "cell_type": "code",
   "execution_count": 80,
   "id": "30e89abb",
   "metadata": {},
   "outputs": [
    {
     "name": "stdout",
     "output_type": "stream",
     "text": [
      "Correlation coefficient:  -0.05249942161417113\n",
      "p-value (two-tailed)_EMPLOYMENT_TYPE_FL: 0.26376\n"
     ]
    }
   ],
   "source": [
    "val7 = st.pearsonr(X_train['employment_type_FL'], y_train)\n",
    "val7\n",
    "print('Correlation coefficient: ', val7[0])\n",
    "print('p-value (two-tailed)_EMPLOYMENT_TYPE_FL: %.5f'%val7[1])"
   ]
  },
  {
   "cell_type": "code",
   "execution_count": 81,
   "id": "3190ab1f",
   "metadata": {},
   "outputs": [
    {
     "name": "stdout",
     "output_type": "stream",
     "text": [
      "Correlation coefficient:  0.10761474456705981\n",
      "p-value (two-tailed)_EMPLOYMENT_TYPE_FT: 0.02168\n"
     ]
    }
   ],
   "source": [
    "val8 = st.pearsonr(X_train['employment_type_FT'], y_train)\n",
    "val8\n",
    "print('Correlation coefficient: ', val8[0])\n",
    "print('p-value (two-tailed)_EMPLOYMENT_TYPE_FT: %.5f'%val8[1])"
   ]
  },
  {
   "cell_type": "code",
   "execution_count": 82,
   "id": "7a207fad",
   "metadata": {},
   "outputs": [
    {
     "name": "stdout",
     "output_type": "stream",
     "text": [
      "Correlation coefficient:  -0.15329810179836428\n",
      "p-value (two-tailed)_EMPLOYMENT_TYPE_PT: 0.00104\n"
     ]
    }
   ],
   "source": [
    "val9 = st.pearsonr(X_train['employment_type_PT'], y_train)\n",
    "val9\n",
    "print('Correlation coefficient: ', val9[0])\n",
    "print('p-value (two-tailed)_EMPLOYMENT_TYPE_PT: %.5f'%val9[1])"
   ]
  },
  {
   "cell_type": "markdown",
   "id": "1ae37a77",
   "metadata": {},
   "source": [
    "# Q7"
   ]
  },
  {
   "cell_type": "code",
   "execution_count": 83,
   "id": "00127d6a",
   "metadata": {},
   "outputs": [
    {
     "data": {
      "text/html": [
       "<div>\n",
       "<style scoped>\n",
       "    .dataframe tbody tr th:only-of-type {\n",
       "        vertical-align: middle;\n",
       "    }\n",
       "\n",
       "    .dataframe tbody tr th {\n",
       "        vertical-align: top;\n",
       "    }\n",
       "\n",
       "    .dataframe thead th {\n",
       "        text-align: right;\n",
       "    }\n",
       "</style>\n",
       "<table border=\"1\" class=\"dataframe\">\n",
       "  <thead>\n",
       "    <tr style=\"text-align: right;\">\n",
       "      <th></th>\n",
       "      <th>work_year</th>\n",
       "      <th>experience_level</th>\n",
       "      <th>remote_ratio</th>\n",
       "      <th>company_location</th>\n",
       "      <th>company_size</th>\n",
       "      <th>same_location</th>\n",
       "      <th>employment_type_CT</th>\n",
       "      <th>employment_type_FL</th>\n",
       "      <th>employment_type_FT</th>\n",
       "      <th>employment_type_PT</th>\n",
       "    </tr>\n",
       "  </thead>\n",
       "  <tbody>\n",
       "    <tr>\n",
       "      <th>213</th>\n",
       "      <td>0.0</td>\n",
       "      <td>0.333333</td>\n",
       "      <td>1.0</td>\n",
       "      <td>1.0</td>\n",
       "      <td>1.0</td>\n",
       "      <td>1.0</td>\n",
       "      <td>0.0</td>\n",
       "      <td>0.0</td>\n",
       "      <td>1.0</td>\n",
       "      <td>0.0</td>\n",
       "    </tr>\n",
       "    <tr>\n",
       "      <th>471</th>\n",
       "      <td>1.0</td>\n",
       "      <td>1.000000</td>\n",
       "      <td>1.0</td>\n",
       "      <td>1.0</td>\n",
       "      <td>0.5</td>\n",
       "      <td>1.0</td>\n",
       "      <td>0.0</td>\n",
       "      <td>0.0</td>\n",
       "      <td>1.0</td>\n",
       "      <td>0.0</td>\n",
       "    </tr>\n",
       "    <tr>\n",
       "      <th>46</th>\n",
       "      <td>0.0</td>\n",
       "      <td>0.333333</td>\n",
       "      <td>1.0</td>\n",
       "      <td>0.0</td>\n",
       "      <td>0.5</td>\n",
       "      <td>1.0</td>\n",
       "      <td>0.0</td>\n",
       "      <td>0.0</td>\n",
       "      <td>1.0</td>\n",
       "      <td>0.0</td>\n",
       "    </tr>\n",
       "    <tr>\n",
       "      <th>266</th>\n",
       "      <td>0.5</td>\n",
       "      <td>0.000000</td>\n",
       "      <td>1.0</td>\n",
       "      <td>1.0</td>\n",
       "      <td>0.5</td>\n",
       "      <td>1.0</td>\n",
       "      <td>0.0</td>\n",
       "      <td>0.0</td>\n",
       "      <td>1.0</td>\n",
       "      <td>0.0</td>\n",
       "    </tr>\n",
       "    <tr>\n",
       "      <th>466</th>\n",
       "      <td>1.0</td>\n",
       "      <td>1.000000</td>\n",
       "      <td>0.0</td>\n",
       "      <td>1.0</td>\n",
       "      <td>0.5</td>\n",
       "      <td>1.0</td>\n",
       "      <td>0.0</td>\n",
       "      <td>0.0</td>\n",
       "      <td>1.0</td>\n",
       "      <td>0.0</td>\n",
       "    </tr>\n",
       "    <tr>\n",
       "      <th>...</th>\n",
       "      <td>...</td>\n",
       "      <td>...</td>\n",
       "      <td>...</td>\n",
       "      <td>...</td>\n",
       "      <td>...</td>\n",
       "      <td>...</td>\n",
       "      <td>...</td>\n",
       "      <td>...</td>\n",
       "      <td>...</td>\n",
       "      <td>...</td>\n",
       "    </tr>\n",
       "    <tr>\n",
       "      <th>277</th>\n",
       "      <td>0.5</td>\n",
       "      <td>0.333333</td>\n",
       "      <td>1.0</td>\n",
       "      <td>1.0</td>\n",
       "      <td>1.0</td>\n",
       "      <td>1.0</td>\n",
       "      <td>0.0</td>\n",
       "      <td>0.0</td>\n",
       "      <td>1.0</td>\n",
       "      <td>0.0</td>\n",
       "    </tr>\n",
       "    <tr>\n",
       "      <th>9</th>\n",
       "      <td>0.5</td>\n",
       "      <td>0.333333</td>\n",
       "      <td>1.0</td>\n",
       "      <td>0.0</td>\n",
       "      <td>1.0</td>\n",
       "      <td>1.0</td>\n",
       "      <td>0.0</td>\n",
       "      <td>0.0</td>\n",
       "      <td>1.0</td>\n",
       "      <td>0.0</td>\n",
       "    </tr>\n",
       "    <tr>\n",
       "      <th>359</th>\n",
       "      <td>1.0</td>\n",
       "      <td>0.333333</td>\n",
       "      <td>1.0</td>\n",
       "      <td>1.0</td>\n",
       "      <td>0.5</td>\n",
       "      <td>1.0</td>\n",
       "      <td>0.0</td>\n",
       "      <td>0.0</td>\n",
       "      <td>1.0</td>\n",
       "      <td>0.0</td>\n",
       "    </tr>\n",
       "    <tr>\n",
       "      <th>192</th>\n",
       "      <td>1.0</td>\n",
       "      <td>0.333333</td>\n",
       "      <td>1.0</td>\n",
       "      <td>0.0</td>\n",
       "      <td>0.5</td>\n",
       "      <td>1.0</td>\n",
       "      <td>0.0</td>\n",
       "      <td>0.0</td>\n",
       "      <td>1.0</td>\n",
       "      <td>0.0</td>\n",
       "    </tr>\n",
       "    <tr>\n",
       "      <th>559</th>\n",
       "      <td>1.0</td>\n",
       "      <td>1.000000</td>\n",
       "      <td>1.0</td>\n",
       "      <td>1.0</td>\n",
       "      <td>0.5</td>\n",
       "      <td>1.0</td>\n",
       "      <td>0.0</td>\n",
       "      <td>0.0</td>\n",
       "      <td>1.0</td>\n",
       "      <td>0.0</td>\n",
       "    </tr>\n",
       "  </tbody>\n",
       "</table>\n",
       "<p>455 rows × 10 columns</p>\n",
       "</div>"
      ],
      "text/plain": [
       "     work_year  experience_level  remote_ratio  company_location  \\\n",
       "213        0.0          0.333333           1.0               1.0   \n",
       "471        1.0          1.000000           1.0               1.0   \n",
       "46         0.0          0.333333           1.0               0.0   \n",
       "266        0.5          0.000000           1.0               1.0   \n",
       "466        1.0          1.000000           0.0               1.0   \n",
       "..         ...               ...           ...               ...   \n",
       "277        0.5          0.333333           1.0               1.0   \n",
       "9          0.5          0.333333           1.0               0.0   \n",
       "359        1.0          0.333333           1.0               1.0   \n",
       "192        1.0          0.333333           1.0               0.0   \n",
       "559        1.0          1.000000           1.0               1.0   \n",
       "\n",
       "     company_size  same_location  employment_type_CT  employment_type_FL  \\\n",
       "213           1.0            1.0                 0.0                 0.0   \n",
       "471           0.5            1.0                 0.0                 0.0   \n",
       "46            0.5            1.0                 0.0                 0.0   \n",
       "266           0.5            1.0                 0.0                 0.0   \n",
       "466           0.5            1.0                 0.0                 0.0   \n",
       "..            ...            ...                 ...                 ...   \n",
       "277           1.0            1.0                 0.0                 0.0   \n",
       "9             1.0            1.0                 0.0                 0.0   \n",
       "359           0.5            1.0                 0.0                 0.0   \n",
       "192           0.5            1.0                 0.0                 0.0   \n",
       "559           0.5            1.0                 0.0                 0.0   \n",
       "\n",
       "     employment_type_FT  employment_type_PT  \n",
       "213                 1.0                 0.0  \n",
       "471                 1.0                 0.0  \n",
       "46                  1.0                 0.0  \n",
       "266                 1.0                 0.0  \n",
       "466                 1.0                 0.0  \n",
       "..                  ...                 ...  \n",
       "277                 1.0                 0.0  \n",
       "9                   1.0                 0.0  \n",
       "359                 1.0                 0.0  \n",
       "192                 1.0                 0.0  \n",
       "559                 1.0                 0.0  \n",
       "\n",
       "[455 rows x 10 columns]"
      ]
     },
     "execution_count": 83,
     "metadata": {},
     "output_type": "execute_result"
    }
   ],
   "source": [
    "X_train"
   ]
  },
  {
   "cell_type": "code",
   "execution_count": 84,
   "id": "e80e0369",
   "metadata": {},
   "outputs": [
    {
     "data": {
      "text/html": [
       "<div>\n",
       "<style scoped>\n",
       "    .dataframe tbody tr th:only-of-type {\n",
       "        vertical-align: middle;\n",
       "    }\n",
       "\n",
       "    .dataframe tbody tr th {\n",
       "        vertical-align: top;\n",
       "    }\n",
       "\n",
       "    .dataframe thead th {\n",
       "        text-align: right;\n",
       "    }\n",
       "</style>\n",
       "<table border=\"1\" class=\"dataframe\">\n",
       "  <thead>\n",
       "    <tr style=\"text-align: right;\">\n",
       "      <th></th>\n",
       "      <th>work_year</th>\n",
       "      <th>experience_level</th>\n",
       "      <th>remote_ratio</th>\n",
       "      <th>company_location</th>\n",
       "      <th>company_size</th>\n",
       "      <th>same_location</th>\n",
       "      <th>employment_type_CT</th>\n",
       "      <th>employment_type_FT</th>\n",
       "      <th>employment_type_PT</th>\n",
       "    </tr>\n",
       "  </thead>\n",
       "  <tbody>\n",
       "    <tr>\n",
       "      <th>213</th>\n",
       "      <td>0.0</td>\n",
       "      <td>0.333333</td>\n",
       "      <td>1.0</td>\n",
       "      <td>1.0</td>\n",
       "      <td>1.0</td>\n",
       "      <td>1.0</td>\n",
       "      <td>0.0</td>\n",
       "      <td>1.0</td>\n",
       "      <td>0.0</td>\n",
       "    </tr>\n",
       "    <tr>\n",
       "      <th>471</th>\n",
       "      <td>1.0</td>\n",
       "      <td>1.000000</td>\n",
       "      <td>1.0</td>\n",
       "      <td>1.0</td>\n",
       "      <td>0.5</td>\n",
       "      <td>1.0</td>\n",
       "      <td>0.0</td>\n",
       "      <td>1.0</td>\n",
       "      <td>0.0</td>\n",
       "    </tr>\n",
       "    <tr>\n",
       "      <th>46</th>\n",
       "      <td>0.0</td>\n",
       "      <td>0.333333</td>\n",
       "      <td>1.0</td>\n",
       "      <td>0.0</td>\n",
       "      <td>0.5</td>\n",
       "      <td>1.0</td>\n",
       "      <td>0.0</td>\n",
       "      <td>1.0</td>\n",
       "      <td>0.0</td>\n",
       "    </tr>\n",
       "    <tr>\n",
       "      <th>266</th>\n",
       "      <td>0.5</td>\n",
       "      <td>0.000000</td>\n",
       "      <td>1.0</td>\n",
       "      <td>1.0</td>\n",
       "      <td>0.5</td>\n",
       "      <td>1.0</td>\n",
       "      <td>0.0</td>\n",
       "      <td>1.0</td>\n",
       "      <td>0.0</td>\n",
       "    </tr>\n",
       "    <tr>\n",
       "      <th>466</th>\n",
       "      <td>1.0</td>\n",
       "      <td>1.000000</td>\n",
       "      <td>0.0</td>\n",
       "      <td>1.0</td>\n",
       "      <td>0.5</td>\n",
       "      <td>1.0</td>\n",
       "      <td>0.0</td>\n",
       "      <td>1.0</td>\n",
       "      <td>0.0</td>\n",
       "    </tr>\n",
       "    <tr>\n",
       "      <th>...</th>\n",
       "      <td>...</td>\n",
       "      <td>...</td>\n",
       "      <td>...</td>\n",
       "      <td>...</td>\n",
       "      <td>...</td>\n",
       "      <td>...</td>\n",
       "      <td>...</td>\n",
       "      <td>...</td>\n",
       "      <td>...</td>\n",
       "    </tr>\n",
       "    <tr>\n",
       "      <th>277</th>\n",
       "      <td>0.5</td>\n",
       "      <td>0.333333</td>\n",
       "      <td>1.0</td>\n",
       "      <td>1.0</td>\n",
       "      <td>1.0</td>\n",
       "      <td>1.0</td>\n",
       "      <td>0.0</td>\n",
       "      <td>1.0</td>\n",
       "      <td>0.0</td>\n",
       "    </tr>\n",
       "    <tr>\n",
       "      <th>9</th>\n",
       "      <td>0.5</td>\n",
       "      <td>0.333333</td>\n",
       "      <td>1.0</td>\n",
       "      <td>0.0</td>\n",
       "      <td>1.0</td>\n",
       "      <td>1.0</td>\n",
       "      <td>0.0</td>\n",
       "      <td>1.0</td>\n",
       "      <td>0.0</td>\n",
       "    </tr>\n",
       "    <tr>\n",
       "      <th>359</th>\n",
       "      <td>1.0</td>\n",
       "      <td>0.333333</td>\n",
       "      <td>1.0</td>\n",
       "      <td>1.0</td>\n",
       "      <td>0.5</td>\n",
       "      <td>1.0</td>\n",
       "      <td>0.0</td>\n",
       "      <td>1.0</td>\n",
       "      <td>0.0</td>\n",
       "    </tr>\n",
       "    <tr>\n",
       "      <th>192</th>\n",
       "      <td>1.0</td>\n",
       "      <td>0.333333</td>\n",
       "      <td>1.0</td>\n",
       "      <td>0.0</td>\n",
       "      <td>0.5</td>\n",
       "      <td>1.0</td>\n",
       "      <td>0.0</td>\n",
       "      <td>1.0</td>\n",
       "      <td>0.0</td>\n",
       "    </tr>\n",
       "    <tr>\n",
       "      <th>559</th>\n",
       "      <td>1.0</td>\n",
       "      <td>1.000000</td>\n",
       "      <td>1.0</td>\n",
       "      <td>1.0</td>\n",
       "      <td>0.5</td>\n",
       "      <td>1.0</td>\n",
       "      <td>0.0</td>\n",
       "      <td>1.0</td>\n",
       "      <td>0.0</td>\n",
       "    </tr>\n",
       "  </tbody>\n",
       "</table>\n",
       "<p>455 rows × 9 columns</p>\n",
       "</div>"
      ],
      "text/plain": [
       "     work_year  experience_level  remote_ratio  company_location  \\\n",
       "213        0.0          0.333333           1.0               1.0   \n",
       "471        1.0          1.000000           1.0               1.0   \n",
       "46         0.0          0.333333           1.0               0.0   \n",
       "266        0.5          0.000000           1.0               1.0   \n",
       "466        1.0          1.000000           0.0               1.0   \n",
       "..         ...               ...           ...               ...   \n",
       "277        0.5          0.333333           1.0               1.0   \n",
       "9          0.5          0.333333           1.0               0.0   \n",
       "359        1.0          0.333333           1.0               1.0   \n",
       "192        1.0          0.333333           1.0               0.0   \n",
       "559        1.0          1.000000           1.0               1.0   \n",
       "\n",
       "     company_size  same_location  employment_type_CT  employment_type_FT  \\\n",
       "213           1.0            1.0                 0.0                 1.0   \n",
       "471           0.5            1.0                 0.0                 1.0   \n",
       "46            0.5            1.0                 0.0                 1.0   \n",
       "266           0.5            1.0                 0.0                 1.0   \n",
       "466           0.5            1.0                 0.0                 1.0   \n",
       "..            ...            ...                 ...                 ...   \n",
       "277           1.0            1.0                 0.0                 1.0   \n",
       "9             1.0            1.0                 0.0                 1.0   \n",
       "359           0.5            1.0                 0.0                 1.0   \n",
       "192           0.5            1.0                 0.0                 1.0   \n",
       "559           0.5            1.0                 0.0                 1.0   \n",
       "\n",
       "     employment_type_PT  \n",
       "213                 0.0  \n",
       "471                 0.0  \n",
       "46                  0.0  \n",
       "266                 0.0  \n",
       "466                 0.0  \n",
       "..                  ...  \n",
       "277                 0.0  \n",
       "9                   0.0  \n",
       "359                 0.0  \n",
       "192                 0.0  \n",
       "559                 0.0  \n",
       "\n",
       "[455 rows x 9 columns]"
      ]
     },
     "execution_count": 84,
     "metadata": {},
     "output_type": "execute_result"
    }
   ],
   "source": [
    "X_train_MLR=X_train.drop(['employment_type_FL'],axis=1)\n",
    "X_train_MLR"
   ]
  },
  {
   "cell_type": "code",
   "execution_count": 85,
   "id": "16c88dd7",
   "metadata": {},
   "outputs": [
    {
     "name": "stderr",
     "output_type": "stream",
     "text": [
      "C:\\Users\\Soundarya\\Anaconda\\lib\\site-packages\\statsmodels\\tsa\\tsatools.py:142: FutureWarning: In a future version of pandas all arguments of concat except for the argument 'objs' will be keyword-only\n",
      "  x = pd.concat(x[::order], 1)\n"
     ]
    }
   ],
   "source": [
    "X_train_MLR=X_train.drop(['employment_type_FL'],axis=1)\n",
    "import statsmodels.api as sm\n",
    "\n",
    "X = sm.add_constant(X_train_MLR)"
   ]
  },
  {
   "cell_type": "markdown",
   "id": "c426d480",
   "metadata": {},
   "source": [
    "# Q8 &7"
   ]
  },
  {
   "cell_type": "code",
   "execution_count": 86,
   "id": "c3b60c11",
   "metadata": {},
   "outputs": [
    {
     "data": {
      "text/html": [
       "<table class=\"simpletable\">\n",
       "<caption>OLS Regression Results</caption>\n",
       "<tr>\n",
       "  <th>Dep. Variable:</th>      <td>salary_in_usd</td>  <th>  R-squared:         </th> <td>   0.391</td> \n",
       "</tr>\n",
       "<tr>\n",
       "  <th>Model:</th>                   <td>OLS</td>       <th>  Adj. R-squared:    </th> <td>   0.379</td> \n",
       "</tr>\n",
       "<tr>\n",
       "  <th>Method:</th>             <td>Least Squares</td>  <th>  F-statistic:       </th> <td>   31.73</td> \n",
       "</tr>\n",
       "<tr>\n",
       "  <th>Date:</th>             <td>Sun, 06 Nov 2022</td> <th>  Prob (F-statistic):</th> <td>7.05e-43</td> \n",
       "</tr>\n",
       "<tr>\n",
       "  <th>Time:</th>                 <td>16:45:05</td>     <th>  Log-Likelihood:    </th> <td> -5616.9</td> \n",
       "</tr>\n",
       "<tr>\n",
       "  <th>No. Observations:</th>      <td>   455</td>      <th>  AIC:               </th> <td>1.125e+04</td>\n",
       "</tr>\n",
       "<tr>\n",
       "  <th>Df Residuals:</th>          <td>   445</td>      <th>  BIC:               </th> <td>1.129e+04</td>\n",
       "</tr>\n",
       "<tr>\n",
       "  <th>Df Model:</th>              <td>     9</td>      <th>                     </th>     <td> </td>    \n",
       "</tr>\n",
       "<tr>\n",
       "  <th>Covariance Type:</th>      <td>nonrobust</td>    <th>                     </th>     <td> </td>    \n",
       "</tr>\n",
       "</table>\n",
       "<table class=\"simpletable\">\n",
       "<tr>\n",
       "           <td></td>             <th>coef</th>     <th>std err</th>      <th>t</th>      <th>P>|t|</th>  <th>[0.025</th>    <th>0.975]</th>  \n",
       "</tr>\n",
       "<tr>\n",
       "  <th>const</th>              <td>-1.375e+04</td> <td> 4.09e+04</td> <td>   -0.336</td> <td> 0.737</td> <td>-9.41e+04</td> <td> 6.66e+04</td>\n",
       "</tr>\n",
       "<tr>\n",
       "  <th>work_year</th>          <td>-4896.0374</td> <td> 8212.200</td> <td>   -0.596</td> <td> 0.551</td> <td> -2.1e+04</td> <td> 1.12e+04</td>\n",
       "</tr>\n",
       "<tr>\n",
       "  <th>experience_level</th>   <td> 5.219e+04</td> <td> 7748.059</td> <td>    6.735</td> <td> 0.000</td> <td>  3.7e+04</td> <td> 6.74e+04</td>\n",
       "</tr>\n",
       "<tr>\n",
       "  <th>remote_ratio</th>       <td> 3033.9691</td> <td> 6693.022</td> <td>    0.453</td> <td> 0.651</td> <td>-1.01e+04</td> <td> 1.62e+04</td>\n",
       "</tr>\n",
       "<tr>\n",
       "  <th>company_location</th>   <td>  5.89e+04</td> <td> 5961.831</td> <td>    9.880</td> <td> 0.000</td> <td> 4.72e+04</td> <td> 7.06e+04</td>\n",
       "</tr>\n",
       "<tr>\n",
       "  <th>company_size</th>       <td>  2.22e+04</td> <td> 8115.162</td> <td>    2.735</td> <td> 0.006</td> <td> 6248.936</td> <td> 3.81e+04</td>\n",
       "</tr>\n",
       "<tr>\n",
       "  <th>same_location</th>      <td> 2.641e+04</td> <td> 1.01e+04</td> <td>    2.623</td> <td> 0.009</td> <td> 6618.723</td> <td> 4.62e+04</td>\n",
       "</tr>\n",
       "<tr>\n",
       "  <th>employment_type_CT</th> <td> 1.727e+05</td> <td> 5.63e+04</td> <td>    3.069</td> <td> 0.002</td> <td> 6.21e+04</td> <td> 2.83e+05</td>\n",
       "</tr>\n",
       "<tr>\n",
       "  <th>employment_type_FT</th> <td> 2.476e+04</td> <td> 4.01e+04</td> <td>    0.617</td> <td> 0.537</td> <td>-5.41e+04</td> <td> 1.04e+05</td>\n",
       "</tr>\n",
       "<tr>\n",
       "  <th>employment_type_PT</th> <td> 3906.8216</td> <td> 4.42e+04</td> <td>    0.088</td> <td> 0.930</td> <td> -8.3e+04</td> <td> 9.08e+04</td>\n",
       "</tr>\n",
       "</table>\n",
       "<table class=\"simpletable\">\n",
       "<tr>\n",
       "  <th>Omnibus:</th>       <td>290.324</td> <th>  Durbin-Watson:     </th> <td>   1.799</td>\n",
       "</tr>\n",
       "<tr>\n",
       "  <th>Prob(Omnibus):</th> <td> 0.000</td>  <th>  Jarque-Bera (JB):  </th> <td>3857.580</td>\n",
       "</tr>\n",
       "<tr>\n",
       "  <th>Skew:</th>          <td> 2.540</td>  <th>  Prob(JB):          </th> <td>    0.00</td>\n",
       "</tr>\n",
       "<tr>\n",
       "  <th>Kurtosis:</th>      <td>16.329</td>  <th>  Cond. No.          </th> <td>    70.2</td>\n",
       "</tr>\n",
       "</table><br/><br/>Notes:<br/>[1] Standard Errors assume that the covariance matrix of the errors is correctly specified."
      ],
      "text/plain": [
       "<class 'statsmodels.iolib.summary.Summary'>\n",
       "\"\"\"\n",
       "                            OLS Regression Results                            \n",
       "==============================================================================\n",
       "Dep. Variable:          salary_in_usd   R-squared:                       0.391\n",
       "Model:                            OLS   Adj. R-squared:                  0.379\n",
       "Method:                 Least Squares   F-statistic:                     31.73\n",
       "Date:                Sun, 06 Nov 2022   Prob (F-statistic):           7.05e-43\n",
       "Time:                        16:45:05   Log-Likelihood:                -5616.9\n",
       "No. Observations:                 455   AIC:                         1.125e+04\n",
       "Df Residuals:                     445   BIC:                         1.129e+04\n",
       "Df Model:                           9                                         \n",
       "Covariance Type:            nonrobust                                         \n",
       "======================================================================================\n",
       "                         coef    std err          t      P>|t|      [0.025      0.975]\n",
       "--------------------------------------------------------------------------------------\n",
       "const              -1.375e+04   4.09e+04     -0.336      0.737   -9.41e+04    6.66e+04\n",
       "work_year          -4896.0374   8212.200     -0.596      0.551    -2.1e+04    1.12e+04\n",
       "experience_level    5.219e+04   7748.059      6.735      0.000     3.7e+04    6.74e+04\n",
       "remote_ratio        3033.9691   6693.022      0.453      0.651   -1.01e+04    1.62e+04\n",
       "company_location     5.89e+04   5961.831      9.880      0.000    4.72e+04    7.06e+04\n",
       "company_size         2.22e+04   8115.162      2.735      0.006    6248.936    3.81e+04\n",
       "same_location       2.641e+04   1.01e+04      2.623      0.009    6618.723    4.62e+04\n",
       "employment_type_CT  1.727e+05   5.63e+04      3.069      0.002    6.21e+04    2.83e+05\n",
       "employment_type_FT  2.476e+04   4.01e+04      0.617      0.537   -5.41e+04    1.04e+05\n",
       "employment_type_PT  3906.8216   4.42e+04      0.088      0.930    -8.3e+04    9.08e+04\n",
       "==============================================================================\n",
       "Omnibus:                      290.324   Durbin-Watson:                   1.799\n",
       "Prob(Omnibus):                  0.000   Jarque-Bera (JB):             3857.580\n",
       "Skew:                           2.540   Prob(JB):                         0.00\n",
       "Kurtosis:                      16.329   Cond. No.                         70.2\n",
       "==============================================================================\n",
       "\n",
       "Notes:\n",
       "[1] Standard Errors assume that the covariance matrix of the errors is correctly specified.\n",
       "\"\"\""
      ]
     },
     "execution_count": 86,
     "metadata": {},
     "output_type": "execute_result"
    }
   ],
   "source": [
    "model=sm.OLS(y_train,X).fit()\n",
    "model.summary()"
   ]
  },
  {
   "cell_type": "markdown",
   "id": "4ff910f3",
   "metadata": {},
   "source": [
    "# Q9"
   ]
  },
  {
   "cell_type": "code",
   "execution_count": 87,
   "id": "ebb037d3",
   "metadata": {},
   "outputs": [
    {
     "data": {
      "text/html": [
       "<div>\n",
       "<style scoped>\n",
       "    .dataframe tbody tr th:only-of-type {\n",
       "        vertical-align: middle;\n",
       "    }\n",
       "\n",
       "    .dataframe tbody tr th {\n",
       "        vertical-align: top;\n",
       "    }\n",
       "\n",
       "    .dataframe thead th {\n",
       "        text-align: right;\n",
       "    }\n",
       "</style>\n",
       "<table border=\"1\" class=\"dataframe\">\n",
       "  <thead>\n",
       "    <tr style=\"text-align: right;\">\n",
       "      <th></th>\n",
       "      <th>experience_level</th>\n",
       "      <th>company_location</th>\n",
       "      <th>company_size</th>\n",
       "      <th>same_location</th>\n",
       "      <th>employment_type_CT</th>\n",
       "    </tr>\n",
       "  </thead>\n",
       "  <tbody>\n",
       "    <tr>\n",
       "      <th>213</th>\n",
       "      <td>0.333333</td>\n",
       "      <td>1.0</td>\n",
       "      <td>1.0</td>\n",
       "      <td>1.0</td>\n",
       "      <td>0.0</td>\n",
       "    </tr>\n",
       "    <tr>\n",
       "      <th>471</th>\n",
       "      <td>1.000000</td>\n",
       "      <td>1.0</td>\n",
       "      <td>0.5</td>\n",
       "      <td>1.0</td>\n",
       "      <td>0.0</td>\n",
       "    </tr>\n",
       "    <tr>\n",
       "      <th>46</th>\n",
       "      <td>0.333333</td>\n",
       "      <td>0.0</td>\n",
       "      <td>0.5</td>\n",
       "      <td>1.0</td>\n",
       "      <td>0.0</td>\n",
       "    </tr>\n",
       "    <tr>\n",
       "      <th>266</th>\n",
       "      <td>0.000000</td>\n",
       "      <td>1.0</td>\n",
       "      <td>0.5</td>\n",
       "      <td>1.0</td>\n",
       "      <td>0.0</td>\n",
       "    </tr>\n",
       "    <tr>\n",
       "      <th>466</th>\n",
       "      <td>1.000000</td>\n",
       "      <td>1.0</td>\n",
       "      <td>0.5</td>\n",
       "      <td>1.0</td>\n",
       "      <td>0.0</td>\n",
       "    </tr>\n",
       "    <tr>\n",
       "      <th>...</th>\n",
       "      <td>...</td>\n",
       "      <td>...</td>\n",
       "      <td>...</td>\n",
       "      <td>...</td>\n",
       "      <td>...</td>\n",
       "    </tr>\n",
       "    <tr>\n",
       "      <th>277</th>\n",
       "      <td>0.333333</td>\n",
       "      <td>1.0</td>\n",
       "      <td>1.0</td>\n",
       "      <td>1.0</td>\n",
       "      <td>0.0</td>\n",
       "    </tr>\n",
       "    <tr>\n",
       "      <th>9</th>\n",
       "      <td>0.333333</td>\n",
       "      <td>0.0</td>\n",
       "      <td>1.0</td>\n",
       "      <td>1.0</td>\n",
       "      <td>0.0</td>\n",
       "    </tr>\n",
       "    <tr>\n",
       "      <th>359</th>\n",
       "      <td>0.333333</td>\n",
       "      <td>1.0</td>\n",
       "      <td>0.5</td>\n",
       "      <td>1.0</td>\n",
       "      <td>0.0</td>\n",
       "    </tr>\n",
       "    <tr>\n",
       "      <th>192</th>\n",
       "      <td>0.333333</td>\n",
       "      <td>0.0</td>\n",
       "      <td>0.5</td>\n",
       "      <td>1.0</td>\n",
       "      <td>0.0</td>\n",
       "    </tr>\n",
       "    <tr>\n",
       "      <th>559</th>\n",
       "      <td>1.000000</td>\n",
       "      <td>1.0</td>\n",
       "      <td>0.5</td>\n",
       "      <td>1.0</td>\n",
       "      <td>0.0</td>\n",
       "    </tr>\n",
       "  </tbody>\n",
       "</table>\n",
       "<p>455 rows × 5 columns</p>\n",
       "</div>"
      ],
      "text/plain": [
       "     experience_level  company_location  company_size  same_location  \\\n",
       "213          0.333333               1.0           1.0            1.0   \n",
       "471          1.000000               1.0           0.5            1.0   \n",
       "46           0.333333               0.0           0.5            1.0   \n",
       "266          0.000000               1.0           0.5            1.0   \n",
       "466          1.000000               1.0           0.5            1.0   \n",
       "..                ...               ...           ...            ...   \n",
       "277          0.333333               1.0           1.0            1.0   \n",
       "9            0.333333               0.0           1.0            1.0   \n",
       "359          0.333333               1.0           0.5            1.0   \n",
       "192          0.333333               0.0           0.5            1.0   \n",
       "559          1.000000               1.0           0.5            1.0   \n",
       "\n",
       "     employment_type_CT  \n",
       "213                 0.0  \n",
       "471                 0.0  \n",
       "46                  0.0  \n",
       "266                 0.0  \n",
       "466                 0.0  \n",
       "..                  ...  \n",
       "277                 0.0  \n",
       "9                   0.0  \n",
       "359                 0.0  \n",
       "192                 0.0  \n",
       "559                 0.0  \n",
       "\n",
       "[455 rows x 5 columns]"
      ]
     },
     "execution_count": 87,
     "metadata": {},
     "output_type": "execute_result"
    }
   ],
   "source": [
    "X_train_MLR2=X_train_MLR.drop(['remote_ratio','work_year','employment_type_FT','employment_type_PT'],axis=1)\n",
    "X_train_MLR2"
   ]
  },
  {
   "cell_type": "code",
   "execution_count": 88,
   "id": "5f04bbba",
   "metadata": {},
   "outputs": [
    {
     "name": "stderr",
     "output_type": "stream",
     "text": [
      "C:\\Users\\Soundarya\\Anaconda\\lib\\site-packages\\statsmodels\\tsa\\tsatools.py:142: FutureWarning: In a future version of pandas all arguments of concat except for the argument 'objs' will be keyword-only\n",
      "  x = pd.concat(x[::order], 1)\n"
     ]
    }
   ],
   "source": [
    "import statsmodels.api as sm\n",
    "X = sm.add_constant(X_train_MLR2)"
   ]
  },
  {
   "cell_type": "code",
   "execution_count": 89,
   "id": "2d077fee",
   "metadata": {},
   "outputs": [
    {
     "data": {
      "text/html": [
       "<table class=\"simpletable\">\n",
       "<caption>OLS Regression Results</caption>\n",
       "<tr>\n",
       "  <th>Dep. Variable:</th>      <td>salary_in_usd</td>  <th>  R-squared:         </th> <td>   0.388</td> \n",
       "</tr>\n",
       "<tr>\n",
       "  <th>Model:</th>                   <td>OLS</td>       <th>  Adj. R-squared:    </th> <td>   0.381</td> \n",
       "</tr>\n",
       "<tr>\n",
       "  <th>Method:</th>             <td>Least Squares</td>  <th>  F-statistic:       </th> <td>   56.95</td> \n",
       "</tr>\n",
       "<tr>\n",
       "  <th>Date:</th>             <td>Sun, 06 Nov 2022</td> <th>  Prob (F-statistic):</th> <td>8.07e-46</td> \n",
       "</tr>\n",
       "<tr>\n",
       "  <th>Time:</th>                 <td>16:45:05</td>     <th>  Log-Likelihood:    </th> <td> -5617.9</td> \n",
       "</tr>\n",
       "<tr>\n",
       "  <th>No. Observations:</th>      <td>   455</td>      <th>  AIC:               </th> <td>1.125e+04</td>\n",
       "</tr>\n",
       "<tr>\n",
       "  <th>Df Residuals:</th>          <td>   449</td>      <th>  BIC:               </th> <td>1.127e+04</td>\n",
       "</tr>\n",
       "<tr>\n",
       "  <th>Df Model:</th>              <td>     5</td>      <th>                     </th>     <td> </td>    \n",
       "</tr>\n",
       "<tr>\n",
       "  <th>Covariance Type:</th>      <td>nonrobust</td>    <th>                     </th>     <td> </td>    \n",
       "</tr>\n",
       "</table>\n",
       "<table class=\"simpletable\">\n",
       "<tr>\n",
       "           <td></td>             <th>coef</th>     <th>std err</th>      <th>t</th>      <th>P>|t|</th>  <th>[0.025</th>    <th>0.975]</th>  \n",
       "</tr>\n",
       "<tr>\n",
       "  <th>const</th>              <td> 8596.1556</td> <td> 1.08e+04</td> <td>    0.798</td> <td> 0.425</td> <td>-1.26e+04</td> <td> 2.98e+04</td>\n",
       "</tr>\n",
       "<tr>\n",
       "  <th>experience_level</th>   <td> 5.234e+04</td> <td> 7401.487</td> <td>    7.072</td> <td> 0.000</td> <td> 3.78e+04</td> <td> 6.69e+04</td>\n",
       "</tr>\n",
       "<tr>\n",
       "  <th>company_location</th>   <td> 5.938e+04</td> <td> 5767.967</td> <td>   10.295</td> <td> 0.000</td> <td>  4.8e+04</td> <td> 7.07e+04</td>\n",
       "</tr>\n",
       "<tr>\n",
       "  <th>company_size</th>       <td> 2.324e+04</td> <td> 8044.783</td> <td>    2.889</td> <td> 0.004</td> <td> 7431.091</td> <td> 3.91e+04</td>\n",
       "</tr>\n",
       "<tr>\n",
       "  <th>same_location</th>      <td> 2.592e+04</td> <td> 9883.681</td> <td>    2.622</td> <td> 0.009</td> <td> 6491.615</td> <td> 4.53e+04</td>\n",
       "</tr>\n",
       "<tr>\n",
       "  <th>employment_type_CT</th> <td> 1.494e+05</td> <td> 4.01e+04</td> <td>    3.730</td> <td> 0.000</td> <td> 7.07e+04</td> <td> 2.28e+05</td>\n",
       "</tr>\n",
       "</table>\n",
       "<table class=\"simpletable\">\n",
       "<tr>\n",
       "  <th>Omnibus:</th>       <td>291.501</td> <th>  Durbin-Watson:     </th> <td>   1.793</td>\n",
       "</tr>\n",
       "<tr>\n",
       "  <th>Prob(Omnibus):</th> <td> 0.000</td>  <th>  Jarque-Bera (JB):  </th> <td>3916.688</td>\n",
       "</tr>\n",
       "<tr>\n",
       "  <th>Skew:</th>          <td> 2.550</td>  <th>  Prob(JB):          </th> <td>    0.00</td>\n",
       "</tr>\n",
       "<tr>\n",
       "  <th>Kurtosis:</th>      <td>16.438</td>  <th>  Cond. No.          </th> <td>    26.4</td>\n",
       "</tr>\n",
       "</table><br/><br/>Notes:<br/>[1] Standard Errors assume that the covariance matrix of the errors is correctly specified."
      ],
      "text/plain": [
       "<class 'statsmodels.iolib.summary.Summary'>\n",
       "\"\"\"\n",
       "                            OLS Regression Results                            \n",
       "==============================================================================\n",
       "Dep. Variable:          salary_in_usd   R-squared:                       0.388\n",
       "Model:                            OLS   Adj. R-squared:                  0.381\n",
       "Method:                 Least Squares   F-statistic:                     56.95\n",
       "Date:                Sun, 06 Nov 2022   Prob (F-statistic):           8.07e-46\n",
       "Time:                        16:45:05   Log-Likelihood:                -5617.9\n",
       "No. Observations:                 455   AIC:                         1.125e+04\n",
       "Df Residuals:                     449   BIC:                         1.127e+04\n",
       "Df Model:                           5                                         \n",
       "Covariance Type:            nonrobust                                         \n",
       "======================================================================================\n",
       "                         coef    std err          t      P>|t|      [0.025      0.975]\n",
       "--------------------------------------------------------------------------------------\n",
       "const               8596.1556   1.08e+04      0.798      0.425   -1.26e+04    2.98e+04\n",
       "experience_level    5.234e+04   7401.487      7.072      0.000    3.78e+04    6.69e+04\n",
       "company_location    5.938e+04   5767.967     10.295      0.000     4.8e+04    7.07e+04\n",
       "company_size        2.324e+04   8044.783      2.889      0.004    7431.091    3.91e+04\n",
       "same_location       2.592e+04   9883.681      2.622      0.009    6491.615    4.53e+04\n",
       "employment_type_CT  1.494e+05   4.01e+04      3.730      0.000    7.07e+04    2.28e+05\n",
       "==============================================================================\n",
       "Omnibus:                      291.501   Durbin-Watson:                   1.793\n",
       "Prob(Omnibus):                  0.000   Jarque-Bera (JB):             3916.688\n",
       "Skew:                           2.550   Prob(JB):                         0.00\n",
       "Kurtosis:                      16.438   Cond. No.                         26.4\n",
       "==============================================================================\n",
       "\n",
       "Notes:\n",
       "[1] Standard Errors assume that the covariance matrix of the errors is correctly specified.\n",
       "\"\"\""
      ]
     },
     "execution_count": 89,
     "metadata": {},
     "output_type": "execute_result"
    }
   ],
   "source": [
    "model=sm.OLS(y_train,X).fit()\n",
    "model.summary()"
   ]
  },
  {
   "cell_type": "markdown",
   "id": "39cdf601",
   "metadata": {},
   "source": [
    "# Q10"
   ]
  },
  {
   "cell_type": "code",
   "execution_count": 90,
   "id": "8aceee46",
   "metadata": {},
   "outputs": [],
   "source": [
    "from sklearn.model_selection import train_test_split\n",
    "from sklearn.preprocessing import MinMaxScaler\n",
    "\n",
    "from sklearn.linear_model import LinearRegression\n",
    "from sklearn.metrics import r2_score, mean_absolute_error, mean_squared_error"
   ]
  },
  {
   "cell_type": "code",
   "execution_count": 91,
   "id": "e0c62f96",
   "metadata": {},
   "outputs": [],
   "source": [
    "X_train, X_valid, y_train, y_valid = train_test_split(X_scaled,y,test_size = 0.25, random_state = 0)"
   ]
  },
  {
   "cell_type": "code",
   "execution_count": 92,
   "id": "fbf30f3e",
   "metadata": {},
   "outputs": [],
   "source": [
    "scaler = MinMaxScaler()\n",
    "scaler.fit(X_train)\n",
    "X_train_scaled = scaler.transform(X_train)\n",
    "X_valid_scaled = scaler.transform(X_valid)"
   ]
  },
  {
   "cell_type": "code",
   "execution_count": 93,
   "id": "f22cc40e",
   "metadata": {},
   "outputs": [
    {
     "data": {
      "text/plain": [
       "LinearRegression()"
      ]
     },
     "execution_count": 93,
     "metadata": {},
     "output_type": "execute_result"
    }
   ],
   "source": [
    "lreg = LinearRegression()\n",
    "lreg.fit(X_train_scaled, y_train)"
   ]
  },
  {
   "cell_type": "code",
   "execution_count": 94,
   "id": "8b69e74f",
   "metadata": {},
   "outputs": [
    {
     "name": "stdout",
     "output_type": "stream",
     "text": [
      "train r2-score:  0.3908554920836873\n"
     ]
    }
   ],
   "source": [
    "print('train r2-score: ', lreg.score(X_train_scaled, y_train))"
   ]
  },
  {
   "cell_type": "markdown",
   "id": "6693795b",
   "metadata": {},
   "source": [
    "# Q11 "
   ]
  },
  {
   "cell_type": "code",
   "execution_count": 95,
   "id": "cfc0d178",
   "metadata": {},
   "outputs": [
    {
     "name": "stdout",
     "output_type": "stream",
     "text": [
      "validation r2-score:  0.31691126421645843\n"
     ]
    }
   ],
   "source": [
    "print('validation r2-score: ', lreg.score(X_valid_scaled, y_valid))"
   ]
  },
  {
   "cell_type": "markdown",
   "id": "7b76bbd3",
   "metadata": {},
   "source": [
    "# Q12"
   ]
  },
  {
   "cell_type": "code",
   "execution_count": 96,
   "id": "1104d25b",
   "metadata": {},
   "outputs": [
    {
     "name": "stdout",
     "output_type": "stream",
     "text": [
      "The gap between trainin and validation score is: train r2-score:  0.3908554920836873 -  validation r2-score:  0.31691126421645843\n",
      "0.07394422786722887\n",
      "7.394422786722887\n",
      "10% of training score is : 0.03900000000000001\n"
     ]
    }
   ],
   "source": [
    "print(\"The gap between trainin and validation score is: train r2-score:  0.3908554920836873 -  validation r2-score:  0.31691126421645843\")\n",
    "print(\"0.07394422786722887\")\n",
    "print(0.07394422786722887*100)\n",
    "print(\"10% of training score is :\",0.39*10/100)"
   ]
  },
  {
   "cell_type": "code",
   "execution_count": null,
   "id": "6d39dc07",
   "metadata": {},
   "outputs": [],
   "source": []
  }
 ],
 "metadata": {
  "kernelspec": {
   "display_name": "Python 3 (ipykernel)",
   "language": "python",
   "name": "python3"
  },
  "language_info": {
   "codemirror_mode": {
    "name": "ipython",
    "version": 3
   },
   "file_extension": ".py",
   "mimetype": "text/x-python",
   "name": "python",
   "nbconvert_exporter": "python",
   "pygments_lexer": "ipython3",
   "version": "3.9.7"
  }
 },
 "nbformat": 4,
 "nbformat_minor": 5
}
